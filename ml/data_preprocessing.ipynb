{
 "cells": [
  {
   "cell_type": "code",
   "execution_count": 15,
   "id": "146c11e6",
   "metadata": {},
   "outputs": [],
   "source": [
    "import requests\n",
    "import os\n",
    "import pandas as pd"
   ]
  },
  {
   "cell_type": "code",
   "execution_count": 2,
   "id": "8ca943d2",
   "metadata": {},
   "outputs": [],
   "source": [
    "product_df = pd.read_csv('product.csv')"
   ]
  },
  {
   "cell_type": "code",
   "execution_count": 40,
   "id": "89c3b0a8",
   "metadata": {},
   "outputs": [],
   "source": [
    "p_list = {\n",
    "    '인허가번호' : [],\n",
    "    '제품명' : [],\n",
    "    '분류' : [],\n",
    "    '업체명' : [],\n",
    "    '성상' : [],\n",
    "    '성분' : [],\n",
    "    '섭취방법' : [],\n",
    "    '효능' : [],\n",
    "    '주의사항' : [],\n",
    "    '보관방법' : [],\n",
    "    '제품형태' : [],\n",
    "}"
   ]
  },
  {
   "cell_type": "code",
   "execution_count": 41,
   "id": "1fe4ec14",
   "metadata": {},
   "outputs": [
    {
     "name": "stdout",
     "output_type": "stream",
     "text": [
      "https://openapi.foodsafetykorea.go.kr/api/2690bd3bdb1542aaa0a4/I0030/json/1/5/PRDLST_REPORT_NO=20040020007587\n",
      "https://openapi.foodsafetykorea.go.kr/api/2690bd3bdb1542aaa0a4/I0030/json/1/5/PRDLST_REPORT_NO=20040020016256\n",
      "https://openapi.foodsafetykorea.go.kr/api/2690bd3bdb1542aaa0a4/I0030/json/1/5/PRDLST_REPORT_NO=20040017016567\n",
      "https://openapi.foodsafetykorea.go.kr/api/2690bd3bdb1542aaa0a4/I0030/json/1/5/PRDLST_REPORT_NO=20040017031231\n"
     ]
    }
   ],
   "source": [
    "nutri_list = os.listdir(path='nutri')\n",
    "for nutri in nutri_list:\n",
    "    nutri_num = os.listdir(path=f'nutri/{nutri}')\n",
    "    for num in nutri_num:\n",
    "        url = f'https://openapi.foodsafetykorea.go.kr/api/2690bd3bdb1542aaa0a4/I0030/json/1/5/PRDLST_REPORT_NO={num.split(\".\")[0]}'\n",
    "        res = requests.get(url);\n",
    "        try:\n",
    "            product = res.json()['I0030']['row'][0]\n",
    "        except:\n",
    "            print(url)\n",
    "        else:\n",
    "            p_list['인허가번호'].append(product['LCNS_NO'])\n",
    "            p_list['제품명'].append(product['PRDLST_NM'])\n",
    "            p_list['분류'].append(nutri)\n",
    "            p_list['업체명'].append(product['BSSH_NM'])\n",
    "            p_list['성상'].append(product['DISPOS'])\n",
    "            p_list['주성분'].append(product['RAWMTRL_NM'])\n",
    "            p_list['섭취방법'].append(product['NTK_MTHD'])\n",
    "            p_list['효능'].append(product['PRIMARY_FNCLTY'])\n",
    "            p_list['주의사항'].append(product['IFTKN_ATNT_MATR_CN'])\n",
    "            p_list['보관방법'].append(product['PRDLST_CDNM'])\n",
    "            p_list['제품형태'].append(product['PRDT_SHAP_CD_NM'])\n",
    "        "
   ]
  },
  {
   "cell_type": "code",
   "execution_count": null,
   "id": "86f11841",
   "metadata": {},
   "outputs": [],
   "source": [
    "기타\n",
    "https://openapi.foodsafetykorea.go.kr/api/2690bd3bdb1542aaa0a4/I0030/json/1/5/PRDLST_REPORT_NO=20040020007587\n",
    "https://openapi.foodsafetykorea.go.kr/api/2690bd3bdb1542aaa0a4/I0030/json/1/5/PRDLST_REPORT_NO=20040020016256\n",
    "칼슘\n",
    "https://openapi.foodsafetykorea.go.kr/api/2690bd3bdb1542aaa0a4/I0030/json/1/5/PRDLST_REPORT_NO=20040017016567\n",
    "콜라겐\n",
    "https://openapi.foodsafetykorea.go.kr/api/2690bd3bdb1542aaa0a4/I0030/json/1/5/PRDLST_REPORT_NO=20040017031231"
   ]
  },
  {
   "cell_type": "code",
   "execution_count": 46,
   "id": "a0251f65",
   "metadata": {},
   "outputs": [
    {
     "data": {
      "text/plain": [
       "['비타민B12혼합제제분말,황산동,베타카로틴혼합제제,비타민D3혼합제제,산화마그네슘,황산망간,분말비타민A혼합제제',\n",
       " '밀크씨슬(카르두스 마리아누스) 추출물(고시형),니코틴산아미드,판토텐산칼슘,비타민B6염산염,비타민B1염산염,비타민B2',\n",
       " '비타민 D3 혼합분말,NAG(엔에이지, N-아세틸글루코사민, N-Acetylglucosamine)(고시형)',\n",
       " 'D-α-토코페롤(비타민E 67%),폴리코사놀-사탕수수 왁스알코올(총 지방족 알코올 함량 90% 이상, 제2006-4호)',\n",
       " '히알루론산(고시형),분말비타민A혼합제제',\n",
       " '코엔자임Q10(고시형),밀크씨슬(카르두스 마리아누스) 추출물(고시형)',\n",
       " '건조효모',\n",
       " '엽산,건조비타민D3,산화아연,유산균혼합분말',\n",
       " '우유단백,대두단백,우유단백,산양유분말,견과류 단백(고시형),콜라겐,난소화성말토덱스트린(고시형),가르시니아캄보지아 추출물(고시형),제삼인산칼슘(고시형),탄산칼슘(고시형),히알루론산(고시형),산화아연(고시형),비타민D3혼합제제,니코틴산아미드(고시형)',\n",
       " '비타민 B6(고시형),판토텐산칼슘(고시형),비오틴(고시형),효모식품,대두단백분말,우유단백,우유단백,우유단백,산양유분말,산양유분말,우유단백,프락토올리고당(고시형),제삼인산칼슘(고시형),수산화마그네슘(고시형),산화아연(고시형),비타민D3혼합제제,기타가공품',\n",
       " '피리독신염산염(고시형),유청단백분말',\n",
       " '분리유단백분말,비타민D3혼합제제분말,산화아연,산화마그네슘,분리완두단백,쌀단백분말,귀리단백,탄산칼슘,산양유분말,프락토올리고당(고시형),유청단백분말,분리대두단백,비타민 B6 염산염',\n",
       " '단백질(고시형),단백질(고시형),단백질(고시형)',\n",
       " '비타민B6염산염,산화마그네슘(고시형),해조칼슘,귀리단백,쌀단백분말,분리완두단백,분리대두단백,산화아연(고시형),비타민 C(고시형),비타민D3혼합제제',\n",
       " '프락토올리고당(고시형),가르시니아캄보지아 추출물(고시형),비타민B6염산염,해조칼슘,산화아연(고시형),분리대두단백,유청단백분말,우유단백,산양유분말,분리완두단백,비타민D3혼합제제',\n",
       " '유청단백분말',\n",
       " '비타민 B6 염산염,판토텐산칼슘,비타민D3혼합제제,산화아연,산화마그네슘,제이인산칼슘,단백질(고시형),완두단백,비타민 B1염산염',\n",
       " '두류가공품,기타가공품,기타가공품,유청칼슘,산화마그네슘,기타가공품,비타민D3혼합제제,산화아연,비타민 B6 염산염',\n",
       " '레티닐 팔미트산염(고시형),비타민B12혼합제제분말,D-알파-토코페롤(고시형),아셀렌산나트륨(고시형),산화아연(고시형),니코틴산아미드(고시형),마리골드꽃추출물(고시형),비타민B6염산염,비타민B2',\n",
       " '마리골드꽃추출물(고시형),헤마토코쿠스추출물(고시형),비타민 A 혼합제제,비타민 C,DL-알파-토코페롤(고시형),산화아연',\n",
       " '마리골드꽃추출물(고시형),헤마토코쿠스추출물(고시형),산화아연,d-α-토코페롤,비타민 A 혼합제제',\n",
       " 'EPA 및 DHA 함유 유지(고시형),마리골드꽃추출물(고시형),d-α-토코페롤,비타민D3혼합제제',\n",
       " '정제어유,마리골드꽃추출물(고시형),건조효모,d-α-토코페롤',\n",
       " '은행잎추출물(고시형),마리골드꽃추출물(고시형),헤마토코쿠스추출물(고시형),비타민 C(고시형),건조효모(셀렌함유),베타카로틴(고시형),산화아연(고시형),d-α-토코페롤,비타민 A 혼합제제,비타민B6염산염,비타민 B1질산염(고시형),비타민 B2(고시형)',\n",
       " '잇꽃씨앗유,마리골드꽃추출물(고시형),세부원재료,루테인지아잔틴복합추출물20%(기능성원료인정제2013-23호)',\n",
       " '세부원재료,해바라기유,d-토코페롤(혼합형),루테인지아잔틴복합추출물(기능성원료인정제2018-11호)',\n",
       " '세부원재료,해바라기유,d-토코페롤(혼합형),셀레늄(고시형),베타카로틴(고시형),비타민 E(고시형),비타민 A(고시형),비타민 B1(고시형),비타민 B2(고시형),루테인지아잔틴복합추출물(기능성원료인정제2018-11호)',\n",
       " '마리골드꽃추출물(고시형)',\n",
       " '비타민C혼합제제',\n",
       " '비타민C(고시형)',\n",
       " '산화아연(고시형),비타민C(고시형)',\n",
       " '비타민C,산화아연(고시형),비타민B6염산염,비타민B1염산염',\n",
       " '비타민C혼합제제,비타민D3혼합제제,비타민B12혼합제제분말,판토텐산칼슘(고시형),산화아연(고시형),비타민B2(고시형),비오틴(고시형)',\n",
       " '비타민C혼합제제,비타민D3혼합제제',\n",
       " '아스코브산칼슘(고시형)',\n",
       " '비타민C혼합제제',\n",
       " '비타민C혼합제제',\n",
       " '비타민 C(고시형)',\n",
       " 'EPA 및 DHA 함유 유지(고시형),d-α-토코페롤,비타민 A 혼합제제,비타민D3혼합제제',\n",
       " 'EPA 및 DHA 함유 유지(고시형),d-α-토코페롤',\n",
       " 'EPA 및 DHA 함유 유지(고시형),마리골드꽃추출물(고시형),d-α-토코페롤,비타민D3혼합제제',\n",
       " '정제어유,d-α-토코페롤',\n",
       " '비타민 A 혼합제제,D-알파-토코페롤(고시형),정제어유,비타민 D3 혼합제제유지',\n",
       " 'EPA 및 DHA 함유 유지(고시형),d-α-토코페롤,비타민 D3 혼합제제유지',\n",
       " '비타민 E(고시형),EPA 및 DHA 함유 유지(고시형)',\n",
       " 'd-α-토코페롤,EPA 및 DHA 함유 유지(고시형)',\n",
       " 'EPA 및 DHA 함유 유지(고시형),마리골드꽃추출물(고시형),d-α-토코페롤,비타민 A 혼합제제',\n",
       " '비타민D3혼합제제,d-α-토코페롤,EPA 및 DHA 함유 유지(고시형)',\n",
       " '가르시니아캄보지아 추출물(고시형),유산균혼합분말,Lactobacillus reuteri(고시형)',\n",
       " '산화아연(고시형),비타민D3혼합제제분말,Lactobacillus gasseri BNR17(기능성원료인정제2014-5호)',\n",
       " 'Lacticaseibacillus rhamnosus(고시형),Bifidobacterium bifidum(고시형),Lactiplantibacillus plantarum(고시형),Streptococcus thermophilus(고시형),Enterococcus faecium(고시형),Limosilactobacillus fermentum(고시형),유산균혼합분말,Lacticaseibacillus paracasei(고시형),Lactococcus lactis(고시형),Lactobacillus gasseri(고시형),Lactobacillus acidophilus(고시형),Ligilactobacillus salivarius(고시형),Bifidobacterium animalis ssp. lactis(고시형),산화아연(고시형)',\n",
       " '산화아연(고시형),비타민B6염산염,비타민 B1질산염(고시형),비타민 B2(고시형),Lactiplantibacillus plantarum(고시형),Limosilactobacillus reuteri(고시형),Bifidobacteriumbifidum(고시형),Streptococcus thermophilus(고시형),Bifidobacterium animalis ssp. lactis(고시형),Lactobacillus acidophilus(고시형),비타민 D 혼합제제',\n",
       " 'Bifidobacterium animalis ssp. lactis(고시형),Bifidobacterium bifidum(고시형),Lactobacillus acidophilus(고시형),산화아연(고시형),차전자피식이섬유(고시형),Lactobacillus plantarum(고시형),Streptococcus thermophilus(고시형)',\n",
       " 'Limosilactobacillus fermentum(고시형),Bifidobacterium bifidum(고시형),Bifidobacterium animalis ssp. lactis(고시형),유산균혼합분말,Lactiplantibacillus plantarum(고시형),가르시니아캄보지아 추출물(고시형),Streptococcus thermophilus(고시형),산화아연(고시형)',\n",
       " 'Enterococcus faecium(고시형),Lactobacillus plantarum(고시형),Lactobacillus casei(고시형),Lactobacillus paracasei(고시형),저분자콜라겐펩타이드GT(기능성원료인정제2022-6호)',\n",
       " 'Lactobacillus plantarum(고시형),Bifidobacterium bifidum(고시형),Bifidobacterium animalis ssp. lactis(고시형),Limosilactobacillus fermentum(고시형),Lactobacillus acidophilus(고시형),Streptococcus thermophilus(고시형)',\n",
       " '아셀렌산나트륨(고시형),Lactobacillus plantarum(고시형),Enterococcus faecium(고시형),산화아연(고시형),프로바이오틱스(고시형)',\n",
       " 'Lactobacillus plantarum(고시형),산화아연(고시형),Lactobacillus acidophilus(고시형),Bifidobacterium animalis ssp. lactis(고시형),Streptococcus thermophilus(고시형),Lactobacillus casei(고시형),셀레늄(고시형),Lactobacillus plantarum(고시형),Lactobacillus gasseri(고시형),Bifidobacterium bifidum(고시형),Lactobacillus rhamnosus(고시형)',\n",
       " '해조칼슘,산화마그네슘,산화아연,황산망간,비타민D3혼합제제',\n",
       " '해조칼슘,산화마그네슘(고시형),산화아연(고시형),비타민 D3 혼합제제분말',\n",
       " '비타민D3혼합제제,탄산칼슘,유청칼슘',\n",
       " '해조칼슘,산화마그네슘(고시형),스테아린산마그네슘(고시형),산화아연(고시형),비타민D3혼합제제,황산망간(고시형)',\n",
       " '산호분말,산화마그네슘(고시형),글루콘산아연(고시형),비타민D3혼합제제',\n",
       " '해조칼슘,산화마그네슘(고시형),건조효모(비타민D)',\n",
       " '비타민D3혼합제제분말,산화아연(고시형),폴리감마글루탐산(고시형),산화마그네슘(고시형),칼슘(고시형)',\n",
       " '해조칼슘,산화마그네슘(고시형),건조효모,산화아연,비타민D3혼합제제,황산망간(고시형),아셀렌산나트륨(고시형),비타민K1혼합제제,황산동(고시형)',\n",
       " '칼슘(고시형),산화마그네슘(고시형),칼슘(고시형),산화아연(고시형),비타민 D3(고시형)',\n",
       " '비타민C,AP 콜라겐 효소분해 펩타이드(기능성원료인정제2010-25호)',\n",
       " '저분자콜라겐펩타이드(기능성원료 인정 제2013-30호),비타민 C,비타민E혼합제제분말,비타민 A 혼합제제분말',\n",
       " '비타민 C(고시형),건조효모(셀렌함유),산화아연(고시형),비타민D3혼합제제분말,비타민B6염산염,비오틴(고시형),저분자콜라겐펩타이드GT(기능성원료인정제2022-6호)',\n",
       " '비오틴 혼합분말,비타민 C(고시형),분말비타민A혼합제제,저분자콜라겐펩타이드GT(기능성원료인정제2022-6호)',\n",
       " '콜라겐,구연산,박하향,비타민 C(고시형),판토텐산칼슘(고시형),비오틴(고시형),Collactive 콜라겐펩타이드(기능성원료인정제2012-24호)',\n",
       " '콜라겐,구연산,박하향,비타민 C(고시형),셀레늄(고시형),산화아연(고시형),비타민 D3(고시형),비오틴(고시형),Collactive 콜라겐펩타이드(기능성원료인정제2012-24호)',\n",
       " 'L-아스코브산나트륨(고시형),산화아연(고시형),아셀렌산나트륨(고시형),비오틴(고시형),비타민 D3(고시형),저분자콜라겐펩타이드(기능성원료인정제2013-30호)',\n",
       " '저분자콜라겐펩타이드(기능성원료인정제2013-30호)',\n",
       " '틸라피아,구연산,셀레늄(고시형),비타민 C(고시형),비타민 A(고시형),비오틴(고시형),저분자콜라겐펩타이드NS(기능성원료인정제2019-20호)']"
      ]
     },
     "execution_count": 46,
     "metadata": {},
     "output_type": "execute_result"
    }
   ],
   "source": [
    "p_list['성분']"
   ]
  },
  {
   "cell_type": "code",
   "execution_count": 38,
   "id": "79844607",
   "metadata": {
    "scrolled": true
   },
   "outputs": [
    {
     "data": {
      "text/plain": [
       "'https://openapi.foodsafetykorea.go.kr/api/2690bd3bdb1542aaa0a4/I0030/json/1/5/PRDLST_REPORT_NO=20040020007587'"
      ]
     },
     "execution_count": 38,
     "metadata": {},
     "output_type": "execute_result"
    }
   ],
   "source": [
    "res.json()['I0030']\n",
    "url"
   ]
  },
  {
   "cell_type": "code",
   "execution_count": null,
   "id": "cdb49fee",
   "metadata": {},
   "outputs": [],
   "source": [
    "res = requests.get()"
   ]
  },
  {
   "cell_type": "code",
   "execution_count": 11,
   "id": "e2869b67",
   "metadata": {},
   "outputs": [
    {
     "name": "stdout",
     "output_type": "stream",
     "text": [
      "<class 'pandas.core.frame.DataFrame'>\n",
      "RangeIndex: 22966 entries, 0 to 22965\n",
      "Data columns (total 9 columns):\n",
      " #   Column  Non-Null Count  Dtype \n",
      "---  ------  --------------  ----- \n",
      " 0   제품명     22966 non-null  object\n",
      " 1   관리번호    22966 non-null  int64 \n",
      " 2   성상      22956 non-null  object\n",
      " 3   업체명     22966 non-null  object\n",
      " 4   섭취방법    22744 non-null  object\n",
      " 5   보관방법    2680 non-null   object\n",
      " 6   주의사항    21996 non-null  object\n",
      " 7   효능      22921 non-null  object\n",
      " 8   기타      22961 non-null  object\n",
      "dtypes: int64(1), object(8)\n",
      "memory usage: 1.6+ MB\n"
     ]
    }
   ],
   "source": [
    "product_df.info()"
   ]
  },
  {
   "cell_type": "code",
   "execution_count": 10,
   "id": "374a9762",
   "metadata": {
    "scrolled": false
   },
   "outputs": [
    {
     "data": {
      "text/html": [
       "<div>\n",
       "<style scoped>\n",
       "    .dataframe tbody tr th:only-of-type {\n",
       "        vertical-align: middle;\n",
       "    }\n",
       "\n",
       "    .dataframe tbody tr th {\n",
       "        vertical-align: top;\n",
       "    }\n",
       "\n",
       "    .dataframe thead th {\n",
       "        text-align: right;\n",
       "    }\n",
       "</style>\n",
       "<table border=\"1\" class=\"dataframe\">\n",
       "  <thead>\n",
       "    <tr style=\"text-align: right;\">\n",
       "      <th></th>\n",
       "      <th>제품명</th>\n",
       "      <th>관리번호</th>\n",
       "      <th>성상</th>\n",
       "      <th>업체명</th>\n",
       "      <th>섭취방법</th>\n",
       "      <th>보관방법</th>\n",
       "      <th>주의사항</th>\n",
       "      <th>효능</th>\n",
       "      <th>기타</th>\n",
       "    </tr>\n",
       "  </thead>\n",
       "  <tbody>\n",
       "    <tr>\n",
       "      <th>0</th>\n",
       "      <td>마더스 철분 30</td>\n",
       "      <td>201000190041288</td>\n",
       "      <td>고유의 향미가 있고 이미, 이취가 없는 밝은 흰 노란색의 장방형 제피정제</td>\n",
       "      <td>엔피케이(주)</td>\n",
       "      <td>1일 1회, 1회 1정 물과 함께 섭취</td>\n",
       "      <td>NaN</td>\n",
       "      <td>1) 과량섭취 시 부작용이 있을 수 있음.\\r\\n2) 특정원료에 알레르기가 있거나 ...</td>\n",
       "      <td>[철]①체내 산소운반과 혈액생성에 필요②에너지 생성에 필요</td>\n",
       "      <td>1) 성상 : 고유의 향미가 있고 이미, 이취가 없는 밝은 흰 노란색의 장방형 제피...</td>\n",
       "    </tr>\n",
       "    <tr>\n",
       "      <th>1</th>\n",
       "      <td>관절편한</td>\n",
       "      <td>2021001622939</td>\n",
       "      <td>고유의 향미가 있고 이미, 이취가 없으며 밝은 연노란색의 액상</td>\n",
       "      <td>엔피케이(주) 2공장</td>\n",
       "      <td>1일 1회, 1회 1포를 섭취하십시오.</td>\n",
       "      <td>NaN</td>\n",
       "      <td>1) 과량섭취 시 부작용이 있을 수 있음.\\r\\n2) 특정원료에 알레르기가 있거나 ...</td>\n",
       "      <td>[엠에스엠(MSM)]①관절 및 연골건강에 도움을 줄 수 있음</td>\n",
       "      <td>1) 성상 : 고유의 향미가 있고 이미, 이취가 없으며 밝은 연노란색의 액상\\r\\n...</td>\n",
       "    </tr>\n",
       "    <tr>\n",
       "      <th>2</th>\n",
       "      <td>다이어트 츄잉</td>\n",
       "      <td>20040020071461</td>\n",
       "      <td>고유의 향미가 있고, 이미,이취가없는 연한 노란 분홍색의 원형정제</td>\n",
       "      <td>에프엔바이오(주)</td>\n",
       "      <td>1일 4회 1회 1정을 씹어드십시오</td>\n",
       "      <td>NaN</td>\n",
       "      <td>(가) 어린이, 임산부 및 수유부는 섭취를 피할 것\\r\\n(나) 간·신장·심장질환,...</td>\n",
       "      <td>[가르시니아캄보지아추출물]탄수화물이 지방으로 합성되는 것을 억제하여 체지방 감소에 ...</td>\n",
       "      <td>성상 : 고유의 향미가 있고, 이미,이취가없는 연한 노란 분홍색의 원형정제\\r\\n ...</td>\n",
       "    </tr>\n",
       "    <tr>\n",
       "      <th>3</th>\n",
       "      <td>더마뷰티 스킨부스터</td>\n",
       "      <td>200400200023414</td>\n",
       "      <td>고유의 향미가 있고 이미, 이취가 없는 갈색의 내용물을 함유한 갈흑색의 타원형 연질캡슐</td>\n",
       "      <td>코스맥스바이오(주)</td>\n",
       "      <td>1일 1회, 1회 2캡슐을 충분한 물과 함께 섭취하십시오. 1일 2회, 1회 1캡슐...</td>\n",
       "      <td>NaN</td>\n",
       "      <td>섭취 시 목에 걸릴 수 있으므로 반드시 물과 함께 섭취하십시오. \\r\\n섭취 시 위...</td>\n",
       "      <td>1) 로즈마리추출물등복합물 : 자외선에 의한 피부손상으로부터 피부 건강 유지에 도움...</td>\n",
       "      <td>1) 성상 : 고유의 향미가 있고 이미, 이취가 없는 갈색의 내용물을 함유한 갈흑색...</td>\n",
       "    </tr>\n",
       "    <tr>\n",
       "      <th>4</th>\n",
       "      <td>리버골드F</td>\n",
       "      <td>200400200072987</td>\n",
       "      <td>고유의 향미가 있고 이미·이취가 없는 노란색의 타원형 제피 정제</td>\n",
       "      <td>(주)한국씨엔에스팜</td>\n",
       "      <td>1일 1회, 1회 1정을 충분한 물과 함께 섭취하십시오.</td>\n",
       "      <td>NaN</td>\n",
       "      <td>① 이상사례 발생 시 섭취를 중단하고 전문가와 상담하시기 바랍니다.\\r\\n② 알레르...</td>\n",
       "      <td>[밀크씨슬추출물] 간 건강에 도움을 줄 수 있음\\r\\n[비타민 B1] 탄수화물과 에...</td>\n",
       "      <td>1) 성상 : 고유의 향미가 있고 이미·이취가 없는 노란색의 타원형 제피 정제\\r\\...</td>\n",
       "    </tr>\n",
       "  </tbody>\n",
       "</table>\n",
       "</div>"
      ],
      "text/plain": [
       "          제품명             관리번호   \n",
       "0   마더스 철분 30  201000190041288  \\\n",
       "1        관절편한    2021001622939   \n",
       "2     다이어트 츄잉   20040020071461   \n",
       "3  더마뷰티 스킨부스터  200400200023414   \n",
       "4       리버골드F  200400200072987   \n",
       "\n",
       "                                                 성상          업체명   \n",
       "0          고유의 향미가 있고 이미, 이취가 없는 밝은 흰 노란색의 장방형 제피정제      엔피케이(주)  \\\n",
       "1                고유의 향미가 있고 이미, 이취가 없으며 밝은 연노란색의 액상  엔피케이(주) 2공장   \n",
       "2              고유의 향미가 있고, 이미,이취가없는 연한 노란 분홍색의 원형정제    에프엔바이오(주)   \n",
       "3  고유의 향미가 있고 이미, 이취가 없는 갈색의 내용물을 함유한 갈흑색의 타원형 연질캡슐   코스맥스바이오(주)   \n",
       "4               고유의 향미가 있고 이미·이취가 없는 노란색의 타원형 제피 정제   (주)한국씨엔에스팜   \n",
       "\n",
       "                                                섭취방법 보관방법   \n",
       "0                              1일 1회, 1회 1정 물과 함께 섭취  NaN  \\\n",
       "1                              1일 1회, 1회 1포를 섭취하십시오.  NaN   \n",
       "2                                1일 4회 1회 1정을 씹어드십시오  NaN   \n",
       "3  1일 1회, 1회 2캡슐을 충분한 물과 함께 섭취하십시오. 1일 2회, 1회 1캡슐...  NaN   \n",
       "4                    1일 1회, 1회 1정을 충분한 물과 함께 섭취하십시오.  NaN   \n",
       "\n",
       "                                                주의사항   \n",
       "0  1) 과량섭취 시 부작용이 있을 수 있음.\\r\\n2) 특정원료에 알레르기가 있거나 ...  \\\n",
       "1  1) 과량섭취 시 부작용이 있을 수 있음.\\r\\n2) 특정원료에 알레르기가 있거나 ...   \n",
       "2  (가) 어린이, 임산부 및 수유부는 섭취를 피할 것\\r\\n(나) 간·신장·심장질환,...   \n",
       "3  섭취 시 목에 걸릴 수 있으므로 반드시 물과 함께 섭취하십시오. \\r\\n섭취 시 위...   \n",
       "4  ① 이상사례 발생 시 섭취를 중단하고 전문가와 상담하시기 바랍니다.\\r\\n② 알레르...   \n",
       "\n",
       "                                                  효능   \n",
       "0                   [철]①체내 산소운반과 혈액생성에 필요②에너지 생성에 필요  \\\n",
       "1                  [엠에스엠(MSM)]①관절 및 연골건강에 도움을 줄 수 있음   \n",
       "2  [가르시니아캄보지아추출물]탄수화물이 지방으로 합성되는 것을 억제하여 체지방 감소에 ...   \n",
       "3  1) 로즈마리추출물등복합물 : 자외선에 의한 피부손상으로부터 피부 건강 유지에 도움...   \n",
       "4  [밀크씨슬추출물] 간 건강에 도움을 줄 수 있음\\r\\n[비타민 B1] 탄수화물과 에...   \n",
       "\n",
       "                                                  기타  \n",
       "0  1) 성상 : 고유의 향미가 있고 이미, 이취가 없는 밝은 흰 노란색의 장방형 제피...  \n",
       "1  1) 성상 : 고유의 향미가 있고 이미, 이취가 없으며 밝은 연노란색의 액상\\r\\n...  \n",
       "2  성상 : 고유의 향미가 있고, 이미,이취가없는 연한 노란 분홍색의 원형정제\\r\\n ...  \n",
       "3  1) 성상 : 고유의 향미가 있고 이미, 이취가 없는 갈색의 내용물을 함유한 갈흑색...  \n",
       "4  1) 성상 : 고유의 향미가 있고 이미·이취가 없는 노란색의 타원형 제피 정제\\r\\...  "
      ]
     },
     "execution_count": 10,
     "metadata": {},
     "output_type": "execute_result"
    }
   ],
   "source": [
    "product_df.head()"
   ]
  },
  {
   "cell_type": "code",
   "execution_count": null,
   "id": "c4205394",
   "metadata": {},
   "outputs": [],
   "source": []
  },
  {
   "cell_type": "code",
   "execution_count": null,
   "id": "a3e4485c",
   "metadata": {},
   "outputs": [],
   "source": []
  }
 ],
 "metadata": {
  "kernelspec": {
   "display_name": "ex_kernel",
   "language": "python",
   "name": "ex"
  },
  "language_info": {
   "codemirror_mode": {
    "name": "ipython",
    "version": 3
   },
   "file_extension": ".py",
   "mimetype": "text/x-python",
   "name": "python",
   "nbconvert_exporter": "python",
   "pygments_lexer": "ipython3",
   "version": "3.8.10"
  },
  "toc": {
   "base_numbering": 1,
   "nav_menu": {},
   "number_sections": true,
   "sideBar": true,
   "skip_h1_title": false,
   "title_cell": "Table of Contents",
   "title_sidebar": "Contents",
   "toc_cell": false,
   "toc_position": {},
   "toc_section_display": true,
   "toc_window_display": false
  }
 },
 "nbformat": 4,
 "nbformat_minor": 5
}
