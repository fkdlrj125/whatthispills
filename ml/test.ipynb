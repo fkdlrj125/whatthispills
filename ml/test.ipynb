{
 "cells": [
  {
   "cell_type": "code",
   "execution_count": 2,
   "id": "e6939651",
   "metadata": {},
   "outputs": [],
   "source": [
    "from sklearn.feature_extraction.text import TfidfVectorizer\n",
    "from selenium import webdriver\n",
    "from selenium.webdriver.common.by import By\n",
    "from selenium.webdriver.common.keys import Keys\n",
    "from bs4 import BeautifulSoup\n",
    "import requests\n",
    "import pandas as pd\n",
    "import re\n",
    "import os\n",
    "import pickle\n",
    "import re\n",
    "import konlpy\n",
    "import nltk\n",
    "import numpy as np"
   ]
  },
  {
   "cell_type": "code",
   "execution_count": 14,
   "id": "5acd5a6a",
   "metadata": {},
   "outputs": [],
   "source": [
    "url = 'https://www.coupang.com/vp/products/6432166864?itemId=13885840489&vendorItemId=3191268334&pickType=COU_PICK&q=SAT%2C%EC%8F%9C%EB%A6%AC%EC%84%9C%EC%B9%98&itemsCount=36&searchId=359d9b926c5c4c94b51af5fc71cf063b&rank=0&isAddedCart='\n",
    "\n",
    "driver = webdriver.Chrome()\n",
    "driver.get(url)"
   ]
  },
  {
   "cell_type": "code",
   "execution_count": 15,
   "id": "54afba4a",
   "metadata": {},
   "outputs": [],
   "source": [
    "driver.find_element(By.XPATH, '//*[@id=\"btfTab\"]/ul[1]/li[2]').click()"
   ]
  },
  {
   "cell_type": "code",
   "execution_count": 16,
   "id": "22832b32",
   "metadata": {},
   "outputs": [],
   "source": [
    "reviews = driver.find_elements(By.CSS_SELECTOR, '.js_reviewArticleListContainer article')"
   ]
  },
  {
   "cell_type": "code",
   "execution_count": 31,
   "id": "3e7863eb",
   "metadata": {},
   "outputs": [],
   "source": [
    "review_list = list()"
   ]
  },
  {
   "cell_type": "code",
   "execution_count": 32,
   "id": "b02a37f3",
   "metadata": {},
   "outputs": [],
   "source": [
    "for review in reviews[:3]:\n",
    "    comment = review.find_element(By.CLASS_NAME, 'sdp-review__article__list__headline').text\n",
    "    comment += review.find_element(By.CLASS_NAME, 'sdp-review__article__list__review__content').text.replace('\\n', ' ')\n",
    "    review_list.append(comment)\n",
    "    "
   ]
  },
  {
   "cell_type": "code",
   "execution_count": 33,
   "id": "fd5a5882",
   "metadata": {},
   "outputs": [
    {
     "data": {
      "text/plain": [
       "['간을 도와 피로를 줄이는 밀크시슬, 아티쵸크,강황성분최근에 피로도가 높고, 영양제도 이것 저것 챙겨먹기로 하였는데 과연 내가 그것들을 다 감당할 수 있을까하는 의아심을 가지다가 밀크씨슬을 생각하게 되었다. 결국 피로의 원인도 간, 이런 저런 영양제를 흡수 할 수있게 하는 일을 하는 간에게 도움이 되는 것을 몇 년전에도 많이 생각하며 밀크씨슬을 알게 되었었다. 그때는 해외에서 있을 때였는데, 밀크씨슬을 큰 마트등에서 통째로도 팔고, 거칠게 간 것도 팔았다. 그래서 밥에 넣어먹기도 했다. 밀크씨슬은 알갱이가 엄청 딱딱했고. 집에있는 가전으로 부수기도 엄청 부담스러웠었다.  한 동안 간에 특별한 것을 챙겨먹거나 영양제를 챙겨먹지 않은 상황에서, 공신력있는 쏜리서치사에서 밀크씨슬 제품을 한번에 한알씩 2~3회 먹도록 만들어진 것이 있다는 걸 알게 되어 반가왔다.  더군다나 커큐민, 아티초크 추출물도 함유되어 있다하니, 커큐민 많은 강황은 많이 먹으려 해도 누런이에 대한 염려도 있었는데 캡슐에 들어있으니 그냥 목으로 넘기기만 하면 된다니 얼마나 편한가 말이다.  한가지 이번 주문에서 아쉬웠던 점은 배송포장 상태에 대한 것이었다. 덩그러니 약을 얇은 검으틱틱한 비닐에 넣어 보내왔다. 원래 비닐은 주변의 온갖 먼지를 끌어다 붙이는 데 그 안에 약병이 그냥 무방비로 들어가 있어서 경악했다. 쭈글쭈글하고, 배송스티커도 꽤재재했다. 약병을 뽁뽁이로라도 한번 감았다거나, 외곽을 한번 더 보호해주는 박스가 있었다면 그런 상태에서 와도 뭐라 할 수 없지만 쏜리서치의 이 약은 플라스틱 뚜껑만 달랑 씰링을 해놓고 다른 부분은 약병에 붙은 스티커도 부실해 보인다.  어쨌든 약의 효과 아닌가? 나와 합이 잘맞아서 활성 산소 손상으로부터 간을 보호할수 있게 되고 흡수가 용이하게 캡슐로 포장된, S는 실크마린, A는 아티초크 T 커큐민 , 이 성분들이 재효능을 발휘하길 바란다.',\n",
       " '간건강에 최고 너무 좋아요 추천드려요!평소 음주를 자주 하는 편이고 잠을 많이 못자는 상황이라 나이도 있고 해서 영양제에 관심이 많은편입니다. 항상 먹고 있는 제품인 쏜리서치 S.A.T. 캡슐, 60정, 2개 를 재구매했어요  이 제품은 워낙 유명한 제품이죠 쏜리서치라는 믿을수 있는 회사의 제품이고 특히 내용물들이 너무 좋아요 밀크시슬 이라고 불리우는 실리마린은 간기능개선을 도와줍니다. 독소로부터 간손상을 예방하고 강력한 항산화작용을 한다고해요 피로회복에도 큰 역활을 합니다 . 간이 좋지 않으면 피로감을 쉽게 느끼는데 이 제품을 복용하면 피로감이 덜 느껴졌어요 그 뿐 아니라 아티초코 라는 성분은 간 독소제거의 최고봉이라고 불리우는데 아티초코 역시 충분하게 들어있었습니다. 비타민 a b c e 등 비타민계 역시14종 함유 되어있는 제품이구요 강황 커큐민은 두뇌건강,관절염치료 항염효과로 몸속 염증 제거와 면연력 상승효과도 볼수 있다고 해요 간 영양제 인지 알았는데 이렇게나 많은 역활을 하고 있는 제품이였어요 60정이고 일반분들은 하루 한알 드시면되는데 음주를 자주 하신다거나 하시는분들은 최대 3알 까지 복용 하셔도 된다고해요 식후에 드시는 걸 추천드리구요 알약이 좀 크긴 한데 목넘김에 전혀 문제가 없었고 냄새가 올라온다는 등에 문제도 없었습니다. 하루 이틀 먹었다고 큰 효과는 볼수 없으나 일주일 정도 꾸준하게 잘 지켜 드신다면 개인적으로는 좋은 효과를 볼수 있었습니다.  요약해보자면요 간 독소제거 항산화 효과 염증제거등 좋은 재료들로 좋은 효과를 줍니다. 피로회복 효과도 볼수있었고 알약이 조금 크긴 하지만 목넘김에는 큰 무리가 없었어요 달아서 먹고 있는 제품이라 자신있게 추천드릴수 있어요 꼭 드셔보세요 추천드려요!',\n",
       " '소리 없이 아파지는 간을 위해서라면..간이 아픈 건 소리없이 찾아온다죠..  그래서 N년째 꾸준히 먹고 있는 영양제 입니다.  우연히 쏜리서치 제품을 알게 되어서 먹어보니까 좋은 것 같아요.   ■ 건강검진을 받고 왔는데요.  쏜리서치 제품 몇 년째 먹다가 건강검진 받으러 갔어요.  남편은 비알콜성 간수치가 있구요(술 안먹는 사람이고, 대신 밥을 많이 먹습니다;;)  저는 원래 간수치는 정상인 사람이구요.  남편은 간수치가 작년보다는 아주 약간 내려갔습니다.  살은 안뺐는데; 약간 영향이 있긴 한가봐요.  그래도 영양제니까 예방목적으로 생각하면서 먹는 게 맞는 것 같아요!   ■ 피로도  남편이 피로도가 다르다네요.  그래서 하루도 빠짐없이 먹어요.  직장인이라면 빼놓을 수 없는 피로도...만성피로..  물론 잠을 일찍 자야겠지만  점심에 먹으면 뭔가 피로함이 다르다고.  그래서 안먹어 본 날도 있었는데  먹는날과 안먹은 날의 피로도가 다르긴 하다고 합니다 ㅋㅋ   ■ 냄새  냄새는 캡슐채로는 거이 향이 안나고  캡슐을 벗기면 강황 향이 납니다!  이게 맞아요!!  강황+카레 이런 향!  강황이 간에 좋다고 유명하쥬~  캡슐으로 꼭 먹어야 합니당  그냥 가루로 먹으면 위장이 안좋아져요  캡슐이 식물성이라서 몸에 절대 해롭지 않아요.  쏜리써치 이 캡슐은 흡수력도 높아준다고 합니다!  타사는 그냥 배출되는 경우가 많아서 실제로 체내에 흡수되는 경우가 적다고 하는데,  쏜리써지는 그렇지 않아서~ 제가 계속 먹는 이유 중 하나기도 해요 ㅎㅎ   ■ SAT  S 실크마린 A 아티초크 T 커큐민  커큐민은 강황에도 있는 성분!  이 성분 3가지는 유명한 성분들이에요. 간에 좋다는.   ■ 몇 년째 먹어본 결과..  정상의 간을 가지고 있는 저한테는 간의 질환 예방 목적으로 먹고 있는데,  몇 년째 건강검진을 해봐도 간수치가 높게 나오거나 그러진 않았어요!  그리고 간은 아프지 않고 찾아오는 질병이라고 해서  미래를 위해 열심히 먹고 있답니다!!  단 저는 밥 먹고 안먹으면 속이 좀 안좋았다는 점! 위장은 원래 좀 약한편이라..  남편은 빈속에 먹어도 상관없다고 하네요.  간수치가 좀 있는 남편은 건강검진 때 수치가 약간 내려갔지만  나머지는 살을 빼야할 것 같습니다...^^..']"
      ]
     },
     "execution_count": 33,
     "metadata": {},
     "output_type": "execute_result"
    }
   ],
   "source": [
    "review_list"
   ]
  },
  {
   "cell_type": "code",
   "execution_count": 1,
   "id": "cd71b636",
   "metadata": {},
   "outputs": [],
   "source": [
    "def clean_korean_documents(documents):\n",
    "    #텍스트 정제 (HTML 태그 제거)\n",
    "    for i, document in enumerate(documents):\n",
    "        document = BeautifulSoup(document, 'html.parser').text \n",
    "        documents[i] = document\n",
    "\n",
    "    #텍스트 정제 (특수기호 제거)\n",
    "    for i, document in enumerate(documents):\n",
    "        document = re.sub(r'[^ ㄱ-ㅣ가-힣]', '', document) #특수기호 제거, 정규 표현식\n",
    "        documents[i] = document\n",
    "        \n",
    "    #텍스트 정제 (불용어 제거)\n",
    "    df = pd.read_csv('https://raw.githubusercontent.com/cranberryai/todak_todak_python/master/machine_learning_text/clean_korean_documents/korean_stopwords.txt', header=None)\n",
    "    df[0] = df[0].apply(lambda x: x.strip())\n",
    "    stopwords = df[0].to_numpy()\n",
    "    nltk.download('punkt')\n",
    "    for i, document in enumerate(documents):\n",
    "        clean_words = [] \n",
    "        for word in nltk.tokenize.word_tokenize(document): \n",
    "            if word not in stopwords: #불용어 제거\n",
    "                clean_words.append(word)\n",
    "        documents[i] = ' '.join(clean_words)  \n",
    "        \n",
    "    return documents"
   ]
  },
  {
   "cell_type": "code",
   "execution_count": 34,
   "id": "db002a27",
   "metadata": {},
   "outputs": [
    {
     "name": "stderr",
     "output_type": "stream",
     "text": [
      "[nltk_data] Downloading package punkt to C:\\Users\\hi-\n",
      "[nltk_data]     sinchon\\AppData\\Roaming\\nltk_data...\n",
      "[nltk_data]   Package punkt is already up-to-date!\n"
     ]
    },
    {
     "data": {
      "text/plain": [
       "['간 도 피로 줄이다 밀크 시슬 아티 크다 강황 성분 최근 피로 도 높다 영양 제도 챙기다 먹기 하다 과연 감당 하다 있다 하다 의아 심 가다 밀크 슬 하다 되어다 피로 원인 간 이렇다 저런 양제 흡수 하다 있다 하다 하다 간 도움 되다 몇 년전 하다 밀크 슬 되어다 그때 해외 있다 이다 밀크 슬 크다 마트 통째 도 팔고 거치다 간 파다 밥 넣다 먹기 하다 밀크 슬 알갱이 딱딱하다 있다 가전 부수 기도 부담스럽다 하다 동안 간 특별하다 챙기다 먹다 양제 챙기다 먹다 않다 상황 공신 있다 쏘다 치사 밀크 슬 제품 한번 회 먹다 만들어지다 있다 걸 되어다 반갑다 오다 더군다나 커큐민 아티초크 추출 물 함유 되어다 있다 커큐민 많다 강황 먹다 해도 누런이 대한 염려 있다 캡슐 들다 그냥 목 넘기다 하다 되다 얼마나 편하다 한가지 이번 주문 아쉽다 배송 포장 상태 대한 이다 덩 그렇다 약 얇다 검다 틱 비닐 넣다 보내오다 원래 비닐 주변 온갖 먼지 끌다 붙이다 병 그냥 무방비 들어가다 있다 경악 하다 쭈글쭈글하다 배송 스티커 꽤 재재하다 병 뽁뽁이로 한번 감다 외곽 한번 보호 해주다 박스 있다 그렇다 상태 뭐라다 하다 없다 쏘다 리서치 약 플라스틱 뚜껑 달랑 씰링 하다 부분 병 붙다 스티커 부실하다 보이다 어쨌든 약 효과 아니다 나오다 합 잘맞다 활 산소 손상 간 보호 하다 있다 되다 흡수 용이하다 캡슐 포장 되다 늘다 실크 마린 늘다 아티초크 커큐민 성분 재효 능 발휘 하다 바라다',\n",
       " '간 건강 최고 좋다 추천 드리다 평소 음주 자주 하다 편이 잠 못자다 상황 나이 있다 하다 양제 관심 많다 편입 니 항상 먹다 있다 제품 쏘다 리서치 캡슐 정 를 재다 하다 제품 워낙 유명하다 제품 쏘다 리서치 믿다 있다 회사 제품 내용물 좋다 밀크 시슬 불리다 실리 마린 간 기능 개선 도와주다 독소 로부터 간 손상 예방 강력하다 항산화작용 하다 고해 피로 회복 크다 역활 하다 간이 좋다 않다 피로 감 쉬다 느끼다 제품 복용 하다 피로 감 덜 느껴지다 뿐 아니다 아티 초코 성분 간 독소제거 최고봉 불리다 아티 초코 역시 충분하다 들다 비타민 비타민 역 시종 함유 되어다 제품 이구 강황 커큐민 두뇌 건강 관절염 치료 항염 효과 몸속 염증 제거 면연 상승 효과 보다 있다 해 간 양제 인지 알다 이렇다 많다 역활 하다 있다 제품 이다 정이 일반 하루 들다 되다 음주 자주 하다 하다 분 최대 복용 하다 되다 고해 식후 들다 걸 추천 드리다 알약 크다 목 넘김 전혀 없다 냄새 올라오다 없다 하루 이틀 먹다 크다 효과 보다 없다 일주일 꾸준하다 자다 지키다 들다 개인 좋다 효과 보다 있다 요약 해보다 간 독소제거 항산화 효과 염증 제거 좋다 재료 좋다 효과 줍다 피로 회복 효과 보다 알약 조금 크다 목 넘김 크다 무리 없다 달다 먹다 있다 제품 자시다 추천 드리다 있다 꼭 들다 보다 추천 드리다',\n",
       " '아프다 간 위 하다 간이 아프다 건 찾아오다 꾸준하다 먹다 있다 양제 이다 쏘다 리서치 제품 되어다 먹다 좋다 같다 건강검진 받다 오다 쏘다 리서치 제품 몇 먹다 건강검진 받다 가다 남편 비 알콜 간수치 있다 요술 먹다 대신 밥 먹다 저 원래 간수치 정상인 이구 남편 간수치 작년 아주 약간 내려가다 빼다 약간 영향 있다 하다 가보다 양제 방목 하다 먹다 게 맞다 같다 피로 남편 피로 도 다르다 하루 빠지다 먹다 직장인 라면 빼놓다 없다 피로 만성 피로 잠 일찍 자다 점심 먹다 뭔가 피로하다 다르다 먹다 보다 날 있다 먹다 날 먹다 날 피로 도 다르다 하다 하다 냄새 냄새 캡슐 채 거 향 안나 캡슐 벗기다 강황 향 나다 맞다 강황 카레 이렇다 향 강황 간 좋다 유명하다 쥬 캡슐 꼭 먹다 하다 그냥 가루 먹다 위장 좋아지다 캡슐 식물성 몸 절대 해롭다 않다 쏘다 써다 캡슐 흡수 높다 주다 하다 사 그냥 배출 되다 많다 실제 체내 흡수 되다 적다 하다 쏘다 써다 그렇다 않다 제 계속 먹다 이유 기도 해 실크 마린 아티초크 커큐민 커큐민 강황 있다 성분 성분 가지다 유명하다 성분 간 좋다 몇 먹다 보다 결과 정상 간 있다 테 간의 질환 예방 목적 먹다 있다 몇 건강검진 해보다 간수치 높다 나오다 그렇다 않다 간 아프다 않다 찾아오다 질병 하다 미래 위해 먹다 있다 단 저 밥 먹다 먹다 속이다 안좋다 위장 원래 한편 남편 빈속 먹다 상관없다 하다 간수치 있다 남편 건강검진 수치 약간 내려가다 나머지 빼다 하다 같다']"
      ]
     },
     "execution_count": 34,
     "metadata": {},
     "output_type": "execute_result"
    }
   ],
   "source": [
    "clean_review = review_list\n",
    "clean_korean_documents(clean_review)"
   ]
  },
  {
   "cell_type": "code",
   "execution_count": null,
   "id": "aa647e64",
   "metadata": {},
   "outputs": [],
   "source": []
  }
 ],
 "metadata": {
  "kernelspec": {
   "display_name": "ex_kernel",
   "language": "python",
   "name": "ex"
  },
  "language_info": {
   "codemirror_mode": {
    "name": "ipython",
    "version": 3
   },
   "file_extension": ".py",
   "mimetype": "text/x-python",
   "name": "python",
   "nbconvert_exporter": "python",
   "pygments_lexer": "ipython3",
   "version": "3.8.10"
  },
  "toc": {
   "base_numbering": 1,
   "nav_menu": {},
   "number_sections": true,
   "sideBar": true,
   "skip_h1_title": false,
   "title_cell": "Table of Contents",
   "title_sidebar": "Contents",
   "toc_cell": false,
   "toc_position": {},
   "toc_section_display": true,
   "toc_window_display": false
  }
 },
 "nbformat": 4,
 "nbformat_minor": 5
}
