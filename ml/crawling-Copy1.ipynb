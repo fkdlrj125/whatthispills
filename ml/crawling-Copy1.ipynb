{
 "cells": [
  {
   "cell_type": "code",
   "execution_count": 1,
   "id": "9981527b",
   "metadata": {},
   "outputs": [],
   "source": [
    "from bs4 import BeautifulSoup\n",
    "import requests\n",
    "import pandas as pd\n",
    "import html5lib\n",
    "import numpy as np\n",
    "import warnings\n",
    "warnings.filterwarnings(action='ignore')"
   ]
  },
  {
   "cell_type": "code",
   "execution_count": 2,
   "id": "fdee89d1",
   "metadata": {},
   "outputs": [],
   "source": [
    "products2 = {\n",
    "    '제품명' : [],\n",
    "    '관리번호' : [],\n",
    "    '성상' : [],\n",
    "    '업체명' : [],\n",
    "    '섭취방법' : [],\n",
    "    '보관방법' : [],\n",
    "    '주의사항' : [],\n",
    "    '효능' : [],\n",
    "    '기타' : []\n",
    "}"
   ]
  },
  {
   "cell_type": "code",
   "execution_count": 3,
   "id": "652b9eb1",
   "metadata": {},
   "outputs": [
    {
     "ename": "NameError",
     "evalue": "name 'soup' is not defined",
     "output_type": "error",
     "traceback": [
      "\u001b[1;31m---------------------------------------------------------------------------\u001b[0m",
      "\u001b[1;31mNameError\u001b[0m                                 Traceback (most recent call last)",
      "Cell \u001b[1;32mIn[3], line 12\u001b[0m\n\u001b[0;32m      9\u001b[0m res2 \u001b[38;5;241m=\u001b[39m requests\u001b[38;5;241m.\u001b[39mget(info_url2, verify\u001b[38;5;241m=\u001b[39m\u001b[38;5;28;01mFalse\u001b[39;00m)\n\u001b[0;32m     10\u001b[0m soup2 \u001b[38;5;241m=\u001b[39m BeautifulSoup(res2\u001b[38;5;241m.\u001b[39mtext, \u001b[38;5;124m'\u001b[39m\u001b[38;5;124mhtml.parser\u001b[39m\u001b[38;5;124m'\u001b[39m)\n\u001b[1;32m---> 12\u001b[0m board2 \u001b[38;5;241m=\u001b[39m \u001b[43msoup\u001b[49m\u001b[38;5;241m.\u001b[39mselect_one(\u001b[38;5;124m'\u001b[39m\u001b[38;5;124mdiv.board_view\u001b[39m\u001b[38;5;124m'\u001b[39m)\n\u001b[0;32m     13\u001b[0m products2[\u001b[38;5;124m'\u001b[39m\u001b[38;5;124m제품명\u001b[39m\u001b[38;5;124m'\u001b[39m]\u001b[38;5;241m.\u001b[39mappend(board2\u001b[38;5;241m.\u001b[39mselect_one(\u001b[38;5;124m'\u001b[39m\u001b[38;5;124mdiv.board_view.big > div > dl:nth-child(1) > dd\u001b[39m\u001b[38;5;124m'\u001b[39m)\u001b[38;5;241m.\u001b[39mtext)\n\u001b[0;32m     14\u001b[0m products2[\u001b[38;5;124m'\u001b[39m\u001b[38;5;124m관리번호\u001b[39m\u001b[38;5;124m'\u001b[39m]\u001b[38;5;241m.\u001b[39mappend(board2\u001b[38;5;241m.\u001b[39mselect_one(\u001b[38;5;124m'\u001b[39m\u001b[38;5;124mdiv.board_view.big > div > dl:nth-child(10) > dd\u001b[39m\u001b[38;5;124m'\u001b[39m)\u001b[38;5;241m.\u001b[39mtext)\n",
      "\u001b[1;31mNameError\u001b[0m: name 'soup' is not defined"
     ]
    }
   ],
   "source": [
    "    for idx in np.arange(1017, 1500):\n",
    "        url2 = f'https://www.fmis.kr/public/pro/hpt/GbinHtfsPrductTrgetList.do?guPrdlstMnfManageNo=0&pageIndex={idx}&pageNo=4030600&searchCnd=99&searchWrd='\n",
    "        df2 = pd.read_html(url2, encoding='utf-8')\n",
    "        product_nums2 = df2[0]['품목 제조 관리번호']\n",
    "\n",
    "        for product_num2 in product_nums2:\n",
    "            info_url2 = f'https://www.fmis.kr/public/pro/hpt/selectHtfsPrductTrgetInfo.do?guPrdlstMnfManageNo={product_num}&pageIndex={idx}&pageNo=4030600&searchCnd=99&searchWrd='\n",
    "\n",
    "            res2 = requests.get(info_url2, verify=False)\n",
    "            soup2 = BeautifulSoup(res2.text, 'html.parser')\n",
    "\n",
    "            board2 = soup2.select_one('div.board_view')\n",
    "            products2['제품명'].append(board2.select_one('div.board_view.big > div > dl:nth-child(1) > dd').text)\n",
    "            products2['관리번호'].append(board2.select_one('div.board_view.big > div > dl:nth-child(10) > dd').text)\n",
    "            products2['성상'].append(board2.select_one('div.board_view.big > div > dl:nth-child(3) > dd').text)\n",
    "            products2['업체명'].append(board2.select_one('div.board_view.big > div > dl:nth-child(4) > dd').text)\n",
    "            products2['섭취방법'].append(board2.select_one('div.board_view.big > div > dl:nth-child(5) > dd').text)\n",
    "            products2['보관방법'].append(board2.select_one('div.board_view.big > div > dl:nth-child(6) > dd').text)\n",
    "            products2['주의사항'].append(board2.select_one('div.board_view.big > div > dl:nth-child(7) > dd').text)\n",
    "            products2['효능'].append(board2.select_one('div.board_view.big > div > dl:nth-child(8) > dd').text)\n",
    "            products2['기타'].append(board2.select_one('div.board_view.big > div > dl:nth-child(9) > dd').text)\n",
    "    print(idx)"
   ]
  },
  {
   "cell_type": "code",
   "execution_count": null,
   "id": "ed99db84",
   "metadata": {},
   "outputs": [],
   "source": []
  }
 ],
 "metadata": {
  "kernelspec": {
   "display_name": "ex_kernel",
   "language": "python",
   "name": "ex"
  },
  "language_info": {
   "codemirror_mode": {
    "name": "ipython",
    "version": 3
   },
   "file_extension": ".py",
   "mimetype": "text/x-python",
   "name": "python",
   "nbconvert_exporter": "python",
   "pygments_lexer": "ipython3",
   "version": "3.8.10"
  }
 },
 "nbformat": 4,
 "nbformat_minor": 5
}
