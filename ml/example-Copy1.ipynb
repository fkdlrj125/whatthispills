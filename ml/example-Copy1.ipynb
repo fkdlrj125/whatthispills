{
 "cells": [
  {
   "cell_type": "code",
   "execution_count": 5,
   "id": "8b4bdc34",
   "metadata": {},
   "outputs": [],
   "source": [
    "from sklearn.datasets import load_files\n",
    "import pandas as pd\n",
    "from bs4 import BeautifulSoup\n",
    "from sklearn.feature_extraction.text import TfidfVectorizer\n",
    "from sklearn.feature_extraction.text import CountVectorizer\n",
    "from sklearn.model_selection import train_test_split\n",
    "from sklearn.naive_bayes import MultinomialNB\n",
    "import pickle\n",
    "import re\n",
    "import konlpy\n",
    "import nltk\n",
    "import numpy as np"
   ]
  },
  {
   "cell_type": "code",
   "execution_count": 6,
   "id": "b6178226",
   "metadata": {
    "scrolled": true
   },
   "outputs": [
    {
     "name": "stderr",
     "output_type": "stream",
     "text": [
      "[nltk_data] Downloading package punkt to C:\\Users\\hi-\n",
      "[nltk_data]     sinchon\\AppData\\Roaming\\nltk_data...\n",
      "[nltk_data]   Package punkt is already up-to-date!\n"
     ]
    }
   ],
   "source": [
    "def clean_korean_documents(documents):\n",
    "    #텍스트 정제 (HTML 태그 제거)\n",
    "    for i, document in enumerate(documents):\n",
    "        document = BeautifulSoup(document, 'html.parser').text \n",
    "        documents[i] = document\n",
    "\n",
    "    #텍스트 정제 (특수기호 제거)\n",
    "    for i, document in enumerate(documents):\n",
    "        document = re.sub(r'[^ ㄱ-ㅣ가-힣]', '', document) #특수기호 제거, 정규 표현식\n",
    "        documents[i] = document\n",
    "        \n",
    "    #텍스트 정제 (형태소 분석)\n",
    "    for i, document in enumerate(documents):\n",
    "        okt = konlpy.tag.Okt()\n",
    "        clean_words = []\n",
    "        for word in okt.pos(document, stem=True): #어간 추출\n",
    "            if word[1] in ['Noun', 'Verb', 'Adjective']: #명사, 동사, 형용사\n",
    "                clean_words.append(word[0])\n",
    "        document = ' '.join(clean_words)\n",
    "        documents[i] = document\n",
    "        \n",
    "    #텍스트 정제 (불용어 제거)\n",
    "    df = pd.read_csv('https://raw.githubusercontent.com/cranberryai/todak_todak_python/master/machine_learning_text/clean_korean_documents/korean_stopwords.txt', header=None)\n",
    "    df[0] = df[0].apply(lambda x: x.strip())\n",
    "    stopwords = df[0].to_numpy()\n",
    "    nltk.download('punkt')\n",
    "    for i, document in enumerate(documents):\n",
    "        clean_words = [] \n",
    "        for word in nltk.tokenize.word_tokenize(document): \n",
    "            if word not in stopwords: #불용어 제거\n",
    "                clean_words.append(word)\n",
    "        documents[i] = ' '.join(clean_words)  \n",
    "        \n",
    "    return documents\n",
    "\n",
    "##########데이터 로드\n",
    "\n",
    "naver_news = load_files('D:/webservice/final/whatthispills/ml/newsData/', shuffle=True)\n",
    "\n",
    "labels = ['정치', '경제', '사회', '생활/문화', '세계', '기술/IT', '연예', '스포츠']\n",
    "\n",
    "##########데이터 분석\n",
    "\n",
    "##########데이터 전처리\n",
    "\n",
    "x_data = naver_news.data\n",
    "x_data = x_data[:2] #데이터를 50개로 제한\n",
    "\n",
    "x_data = [x.decode('utf-8') for x in x_data] #바이트를 문자열로 바꾸기\n",
    "x_data = clean_korean_documents(x_data) #텍스트 정제"
   ]
  },
  {
   "cell_type": "code",
   "execution_count": 7,
   "id": "eee6847e",
   "metadata": {},
   "outputs": [
    {
     "data": {
      "text/html": [
       "<style>#sk-container-id-2 {color: black;background-color: white;}#sk-container-id-2 pre{padding: 0;}#sk-container-id-2 div.sk-toggleable {background-color: white;}#sk-container-id-2 label.sk-toggleable__label {cursor: pointer;display: block;width: 100%;margin-bottom: 0;padding: 0.3em;box-sizing: border-box;text-align: center;}#sk-container-id-2 label.sk-toggleable__label-arrow:before {content: \"▸\";float: left;margin-right: 0.25em;color: #696969;}#sk-container-id-2 label.sk-toggleable__label-arrow:hover:before {color: black;}#sk-container-id-2 div.sk-estimator:hover label.sk-toggleable__label-arrow:before {color: black;}#sk-container-id-2 div.sk-toggleable__content {max-height: 0;max-width: 0;overflow: hidden;text-align: left;background-color: #f0f8ff;}#sk-container-id-2 div.sk-toggleable__content pre {margin: 0.2em;color: black;border-radius: 0.25em;background-color: #f0f8ff;}#sk-container-id-2 input.sk-toggleable__control:checked~div.sk-toggleable__content {max-height: 200px;max-width: 100%;overflow: auto;}#sk-container-id-2 input.sk-toggleable__control:checked~label.sk-toggleable__label-arrow:before {content: \"▾\";}#sk-container-id-2 div.sk-estimator input.sk-toggleable__control:checked~label.sk-toggleable__label {background-color: #d4ebff;}#sk-container-id-2 div.sk-label input.sk-toggleable__control:checked~label.sk-toggleable__label {background-color: #d4ebff;}#sk-container-id-2 input.sk-hidden--visually {border: 0;clip: rect(1px 1px 1px 1px);clip: rect(1px, 1px, 1px, 1px);height: 1px;margin: -1px;overflow: hidden;padding: 0;position: absolute;width: 1px;}#sk-container-id-2 div.sk-estimator {font-family: monospace;background-color: #f0f8ff;border: 1px dotted black;border-radius: 0.25em;box-sizing: border-box;margin-bottom: 0.5em;}#sk-container-id-2 div.sk-estimator:hover {background-color: #d4ebff;}#sk-container-id-2 div.sk-parallel-item::after {content: \"\";width: 100%;border-bottom: 1px solid gray;flex-grow: 1;}#sk-container-id-2 div.sk-label:hover label.sk-toggleable__label {background-color: #d4ebff;}#sk-container-id-2 div.sk-serial::before {content: \"\";position: absolute;border-left: 1px solid gray;box-sizing: border-box;top: 0;bottom: 0;left: 50%;z-index: 0;}#sk-container-id-2 div.sk-serial {display: flex;flex-direction: column;align-items: center;background-color: white;padding-right: 0.2em;padding-left: 0.2em;position: relative;}#sk-container-id-2 div.sk-item {position: relative;z-index: 1;}#sk-container-id-2 div.sk-parallel {display: flex;align-items: stretch;justify-content: center;background-color: white;position: relative;}#sk-container-id-2 div.sk-item::before, #sk-container-id-2 div.sk-parallel-item::before {content: \"\";position: absolute;border-left: 1px solid gray;box-sizing: border-box;top: 0;bottom: 0;left: 50%;z-index: -1;}#sk-container-id-2 div.sk-parallel-item {display: flex;flex-direction: column;z-index: 1;position: relative;background-color: white;}#sk-container-id-2 div.sk-parallel-item:first-child::after {align-self: flex-end;width: 50%;}#sk-container-id-2 div.sk-parallel-item:last-child::after {align-self: flex-start;width: 50%;}#sk-container-id-2 div.sk-parallel-item:only-child::after {width: 0;}#sk-container-id-2 div.sk-dashed-wrapped {border: 1px dashed gray;margin: 0 0.4em 0.5em 0.4em;box-sizing: border-box;padding-bottom: 0.4em;background-color: white;}#sk-container-id-2 div.sk-label label {font-family: monospace;font-weight: bold;display: inline-block;line-height: 1.2em;}#sk-container-id-2 div.sk-label-container {text-align: center;}#sk-container-id-2 div.sk-container {/* jupyter's `normalize.less` sets `[hidden] { display: none; }` but bootstrap.min.css set `[hidden] { display: none !important; }` so we also need the `!important` here to be able to override the default hidden behavior on the sphinx rendered scikit-learn.org. See: https://github.com/scikit-learn/scikit-learn/issues/21755 */display: inline-block !important;position: relative;}#sk-container-id-2 div.sk-text-repr-fallback {display: none;}</style><div id=\"sk-container-id-2\" class=\"sk-top-container\"><div class=\"sk-text-repr-fallback\"><pre>TfidfVectorizer()</pre><b>In a Jupyter environment, please rerun this cell to show the HTML representation or trust the notebook. <br />On GitHub, the HTML representation is unable to render, please try loading this page with nbviewer.org.</b></div><div class=\"sk-container\" hidden><div class=\"sk-item\"><div class=\"sk-estimator sk-toggleable\"><input class=\"sk-toggleable__control sk-hidden--visually\" id=\"sk-estimator-id-2\" type=\"checkbox\" checked><label for=\"sk-estimator-id-2\" class=\"sk-toggleable__label sk-toggleable__label-arrow\">TfidfVectorizer</label><div class=\"sk-toggleable__content\"><pre>TfidfVectorizer()</pre></div></div></div></div></div>"
      ],
      "text/plain": [
       "TfidfVectorizer()"
      ]
     },
     "execution_count": 7,
     "metadata": {},
     "output_type": "execute_result"
    }
   ],
   "source": [
    "tfidf = TfidfVectorizer()\n",
    "tfidf.fit(x_data)"
   ]
  },
  {
   "cell_type": "code",
   "execution_count": 8,
   "id": "13c10f91",
   "metadata": {
    "scrolled": false
   },
   "outputs": [
    {
     "data": {
      "text/plain": [
       "['태양광 충전 되다 아이폰 테슬라 디넷 코리아 이정현 기자 도널드 트럼프 미국 대통령 푸틴 러시아 대통령 초상화 새기다 황금 아이폰 출시 하다 화제 모으다 러시아 업체 캐비아 이번 태양광 충전 가능하다 아이폰 를 판매 하다 매체 더버지 보도 하다 업체 주로 아이폰 애플 워치 제품 금 장식 개조 하다 고가 판매 하다 업체 아이폰 이름 아이폰 테슬라 제품 면 태양 전지 패널 있다 스마트폰 뒤지다 놓다 하다 충전 되어다 보조 배터리 형태 사용 하다 있다 업체 아이폰 직접 만들다 아니다 아이폰 탑재 되다 태양광 충전 기능 아이폰 직접 내장 되어다 있다 형태 아니다 아이폰 바깥 쪽 케이스 형태 탑재 되다 캐비아 동안 제공 하다 제품 마찬가지 고급스럽다 움 대화 하다 위해 노력 하다 아이폰 면 모서리 후 카메라 테두리 곳곳 금 장식 하다 제품 대다 한정 생산 되다 모델 아이폰 테슬라 가격 달러 약 만 모델 달러 약 만',\n",
       " '돈 꽃다발 돈 케이크 현금 선호 뚜렷하다 어버이날 선물 새 풍경 앵커 어버이날 오늘 부모님 어떻다 선물 하다 최근 지폐 만들다 꽃다발 인기 하다 현금 선호 하다 달라지다 선물 트렌드 장동 욱 기자 보도 하다 리포트 카네이션 정성 스레 포장 되다 꽃 휘감다 건 다르다 아니다 지폐 이다 카네이션 지폐 섞다 현금 꽃다발 플라워 박스 이다 현금 선물 하다 게 요즘 대세 이다 어버이날 선물 뭐 좋다 지다 휴대폰 사용자 지난 검색 데이터 만천 건 분석 하다 현금 로 위 이다 서지혜 꽃 가게 직원 어버이날 하다 늘다 꽃다발 플라워 박스 현금 꽃다발 주문 해주다 인터넷 현금 꽃다발 현금 케이크 만들다 방법 자세하다 소개 되다 있다 김인호 좋다 인천 시 학익동 성의 표현 의미 돈 꽃다발 주다 좋아하다 웃음 빵 터지다 자식 부모 휴대전화 메신저 상품권 선물 하다 늘 있다 주고받다 기도 편하다 양쪽 만족 이다 손 경연 김 나현 산시 남구 그냥 사다 마음 들다 생기다 있다 사고 싶다 필요하다 있다 유창 동국대 경영학 받다 쓸다 거 쓸다 거 를 해보다 하다 가장 용다 쓸다 있다 방법 선물 해주다 기발하다 방법 자녀 마음 담다 현금 선물 어버이날 새롭다 풍경 떠오르다 있다 조선 장동 욱 이다']"
      ]
     },
     "execution_count": 8,
     "metadata": {},
     "output_type": "execute_result"
    }
   ],
   "source": [
    "x_data[0:2]"
   ]
  },
  {
   "cell_type": "code",
   "execution_count": 9,
   "id": "02b13a36",
   "metadata": {
    "scrolled": false
   },
   "outputs": [
    {
     "data": {
      "text/html": [
       "<div>\n",
       "<style scoped>\n",
       "    .dataframe tbody tr th:only-of-type {\n",
       "        vertical-align: middle;\n",
       "    }\n",
       "\n",
       "    .dataframe tbody tr th {\n",
       "        vertical-align: top;\n",
       "    }\n",
       "\n",
       "    .dataframe thead th {\n",
       "        text-align: right;\n",
       "    }\n",
       "</style>\n",
       "<table border=\"1\" class=\"dataframe\">\n",
       "  <thead>\n",
       "    <tr style=\"text-align: right;\">\n",
       "      <th></th>\n",
       "      <th>태양광</th>\n",
       "      <th>충전</th>\n",
       "      <th>되다</th>\n",
       "      <th>아이폰</th>\n",
       "      <th>테슬라</th>\n",
       "      <th>디넷</th>\n",
       "      <th>코리아</th>\n",
       "      <th>이정현</th>\n",
       "      <th>기자</th>\n",
       "      <th>도널드</th>\n",
       "      <th>...</th>\n",
       "      <th>쓸다</th>\n",
       "      <th>해보다</th>\n",
       "      <th>가장</th>\n",
       "      <th>용다</th>\n",
       "      <th>기발하다</th>\n",
       "      <th>자녀</th>\n",
       "      <th>담다</th>\n",
       "      <th>새롭다</th>\n",
       "      <th>떠오르다</th>\n",
       "      <th>조선</th>\n",
       "    </tr>\n",
       "  </thead>\n",
       "  <tbody>\n",
       "    <tr>\n",
       "      <th>0</th>\n",
       "      <td>0.000000</td>\n",
       "      <td>0.050803</td>\n",
       "      <td>0.050803</td>\n",
       "      <td>0.000000</td>\n",
       "      <td>0.050803</td>\n",
       "      <td>0.000000</td>\n",
       "      <td>0.000000</td>\n",
       "      <td>0.000000</td>\n",
       "      <td>0.050803</td>\n",
       "      <td>0.050803</td>\n",
       "      <td>...</td>\n",
       "      <td>0.050803</td>\n",
       "      <td>0.000000</td>\n",
       "      <td>0.000000</td>\n",
       "      <td>0.000000</td>\n",
       "      <td>0.152409</td>\n",
       "      <td>0.050803</td>\n",
       "      <td>0.050803</td>\n",
       "      <td>0.000000</td>\n",
       "      <td>0.000000</td>\n",
       "      <td>0.000000</td>\n",
       "    </tr>\n",
       "    <tr>\n",
       "      <th>1</th>\n",
       "      <td>0.046384</td>\n",
       "      <td>0.000000</td>\n",
       "      <td>0.000000</td>\n",
       "      <td>0.046384</td>\n",
       "      <td>0.000000</td>\n",
       "      <td>0.046384</td>\n",
       "      <td>0.046384</td>\n",
       "      <td>0.046384</td>\n",
       "      <td>0.000000</td>\n",
       "      <td>0.000000</td>\n",
       "      <td>...</td>\n",
       "      <td>0.000000</td>\n",
       "      <td>0.046384</td>\n",
       "      <td>0.092768</td>\n",
       "      <td>0.417455</td>\n",
       "      <td>0.000000</td>\n",
       "      <td>0.000000</td>\n",
       "      <td>0.000000</td>\n",
       "      <td>0.046384</td>\n",
       "      <td>0.046384</td>\n",
       "      <td>0.046384</td>\n",
       "    </tr>\n",
       "  </tbody>\n",
       "</table>\n",
       "<p>2 rows × 171 columns</p>\n",
       "</div>"
      ],
      "text/plain": [
       "        태양광        충전        되다       아이폰       테슬라        디넷       코리아   \n",
       "0  0.000000  0.050803  0.050803  0.000000  0.050803  0.000000  0.000000  \\\n",
       "1  0.046384  0.000000  0.000000  0.046384  0.000000  0.046384  0.046384   \n",
       "\n",
       "        이정현        기자       도널드  ...        쓸다       해보다        가장        용다   \n",
       "0  0.000000  0.050803  0.050803  ...  0.050803  0.000000  0.000000  0.000000  \\\n",
       "1  0.046384  0.000000  0.000000  ...  0.000000  0.046384  0.092768  0.417455   \n",
       "\n",
       "       기발하다        자녀        담다       새롭다      떠오르다        조선  \n",
       "0  0.152409  0.050803  0.050803  0.000000  0.000000  0.000000  \n",
       "1  0.000000  0.000000  0.000000  0.046384  0.046384  0.046384  \n",
       "\n",
       "[2 rows x 171 columns]"
      ]
     },
     "execution_count": 9,
     "metadata": {},
     "output_type": "execute_result"
    }
   ],
   "source": [
    "df = pd.DataFrame(tfidf.transform(x_data).toarray(), columns=tfidf.vocabulary_)\n",
    "df.head()"
   ]
  },
  {
   "cell_type": "code",
   "execution_count": 10,
   "id": "851fb16e",
   "metadata": {},
   "outputs": [
    {
     "data": {
      "text/plain": [
       "지폐      0.609636\n",
       "경영학     0.397614\n",
       "카네이션    0.203212\n",
       "자식      0.203212\n",
       "주문      0.203212\n",
       "          ...   \n",
       "한정      0.000000\n",
       "곳곳      0.000000\n",
       "테두리     0.000000\n",
       "카메라     0.000000\n",
       "조선      0.000000\n",
       "Name: 0, Length: 171, dtype: float64"
      ]
     },
     "execution_count": 10,
     "metadata": {},
     "output_type": "execute_result"
    }
   ],
   "source": [
    "df.iloc[0].sort_values(ascending=False)"
   ]
  },
  {
   "cell_type": "code",
   "execution_count": 11,
   "id": "edcb0203",
   "metadata": {},
   "outputs": [
    {
     "data": {
      "text/plain": [
       "용다      0.417455\n",
       "뚜렷하다    0.371071\n",
       "황금      0.324687\n",
       "경영학     0.297023\n",
       "박스      0.278303\n",
       "          ...   \n",
       "전지      0.000000\n",
       "좋다      0.000000\n",
       "대세      0.000000\n",
       "요즘      0.000000\n",
       "주로      0.000000\n",
       "Name: 1, Length: 171, dtype: float64"
      ]
     },
     "execution_count": 11,
     "metadata": {},
     "output_type": "execute_result"
    }
   ],
   "source": [
    "df.iloc[1].sort_values(ascending=False)"
   ]
  },
  {
   "cell_type": "code",
   "execution_count": null,
   "id": "9a9d04e9",
   "metadata": {},
   "outputs": [],
   "source": []
  }
 ],
 "metadata": {
  "kernelspec": {
   "display_name": "ex_kernel",
   "language": "python",
   "name": "ex"
  },
  "language_info": {
   "codemirror_mode": {
    "name": "ipython",
    "version": 3
   },
   "file_extension": ".py",
   "mimetype": "text/x-python",
   "name": "python",
   "nbconvert_exporter": "python",
   "pygments_lexer": "ipython3",
   "version": "3.8.10"
  },
  "toc": {
   "base_numbering": 1,
   "nav_menu": {},
   "number_sections": true,
   "sideBar": true,
   "skip_h1_title": false,
   "title_cell": "Table of Contents",
   "title_sidebar": "Contents",
   "toc_cell": false,
   "toc_position": {},
   "toc_section_display": true,
   "toc_window_display": false
  }
 },
 "nbformat": 4,
 "nbformat_minor": 5
}
