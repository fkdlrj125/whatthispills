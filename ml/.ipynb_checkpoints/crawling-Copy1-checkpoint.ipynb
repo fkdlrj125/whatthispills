{
 "cells": [
  {
   "cell_type": "code",
   "execution_count": 52,
   "id": "9981527b",
   "metadata": {},
   "outputs": [],
   "source": [
    "from bs4 import BeautifulSoup\n",
    "import requests\n",
    "import pandas as pd\n",
    "import html5lib\n",
    "import numpy as np\n",
    "import warnings\n",
    "warnings.filterwarnings(action='ignore')"
   ]
  },
  {
   "cell_type": "code",
   "execution_count": 65,
   "id": "61e7d516",
   "metadata": {},
   "outputs": [
    {
     "data": {
      "text/plain": [
       "9"
      ]
     },
     "execution_count": 65,
     "metadata": {},
     "output_type": "execute_result"
    }
   ],
   "source": [
    "len(products['관리번호'])"
   ]
  },
  {
   "cell_type": "code",
   "execution_count": 66,
   "id": "d39a57e2",
   "metadata": {},
   "outputs": [
    {
     "data": {
      "text/plain": [
       "'근육건강 마그네슘'"
      ]
     },
     "execution_count": 66,
     "metadata": {},
     "output_type": "execute_result"
    }
   ],
   "source": [
    "products['제품명'][-1]"
   ]
  },
  {
   "cell_type": "code",
   "execution_count": null,
   "id": "fdee89d1",
   "metadata": {},
   "outputs": [],
   "source": [
    "products = {\n",
    "    '제품명' : [],\n",
    "    '관리번호' : [],\n",
    "    '성상' : [],\n",
    "    '업체명' : [],\n",
    "    '섭취방법' : [],\n",
    "    '보관방법' : [],\n",
    "    '주의사항' : [],\n",
    "    '효능' : [],\n",
    "    '기타' : []\n",
    "}"
   ]
  },
  {
   "cell_type": "code",
   "execution_count": null,
   "id": "652b9eb1",
   "metadata": {},
   "outputs": [],
   "source": [
    "try:\n",
    "    for idx in np.arange(115, 500):\n",
    "        url = f'https://www.fmis.kr/public/pro/hpt/GbinHtfsPrductTrgetList.do?guPrdlstMnfManageNo=0&pageIndex={idx}&pageNo=4030600&searchCnd=99&searchWrd='\n",
    "        df = pd.read_html(url, encoding='utf-8')\n",
    "        product_nums = df[0]['품목 제조 관리번호']\n",
    "\n",
    "        for product_num in product_nums:\n",
    "            info_url = f'https://www.fmis.kr/public/pro/hpt/selectHtfsPrductTrgetInfo.do?guPrdlstMnfManageNo={product_num}&pageIndex={idx}&pageNo=4030600&searchCnd=99&searchWrd='\n",
    "\n",
    "            headers={'user-agent' : 'Mozilla/5.0 (Windows NT 10.0; Win64; x64) AppleWebKit/537.36 (KHTML, like Gecko) Chrome/114.0.0.0 Safari/537.36'}\n",
    "            res = requests.get(info_url, headers=headers, verify=False)\n",
    "            soup = BeautifulSoup(res.text, 'html.parser')\n",
    "\n",
    "            board = soup.select_one('div.board_view')\n",
    "            products['제품명'].append(board.select_one('div.board_view.big > div > dl:nth-child(1) > dd').text)\n",
    "            products['관리번호'].append(board.select_one('div.board_view.big > div > dl:nth-child(10) > dd').text)\n",
    "            products['성상'].append(board.select_one('div.board_view.big > div > dl:nth-child(3) > dd').text)\n",
    "            products['업체명'].append(board.select_one('div.board_view.big > div > dl:nth-child(4) > dd').text)\n",
    "            products['섭취방법'].append(board.select_one('div.board_view.big > div > dl:nth-child(5) > dd').text)\n",
    "            products['보관방법'].append(board.select_one('div.board_view.big > div > dl:nth-child(6) > dd').text)\n",
    "            products['주의사항'].append(board.select_one('div.board_view.big > div > dl:nth-child(7) > dd').text)\n",
    "            products['효능'].append(board.select_one('div.board_view.big > div > dl:nth-child(8) > dd').text)\n",
    "            products['기타'].append(board.select_one('div.board_view.big > div > dl:nth-child(9) > dd').text)\n",
    "except:\n",
    "    print(idx)"
   ]
  }
 ],
 "metadata": {
  "kernelspec": {
   "display_name": "ex_kernel",
   "language": "python",
   "name": "ex"
  },
  "language_info": {
   "codemirror_mode": {
    "name": "ipython",
    "version": 3
   },
   "file_extension": ".py",
   "mimetype": "text/x-python",
   "name": "python",
   "nbconvert_exporter": "python",
   "pygments_lexer": "ipython3",
   "version": "3.8.10"
  }
 },
 "nbformat": 4,
 "nbformat_minor": 5
}
