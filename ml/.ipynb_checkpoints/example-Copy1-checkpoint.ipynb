{
 "cells": [
  {
   "cell_type": "code",
   "execution_count": 1,
   "id": "8b4bdc34",
   "metadata": {},
   "outputs": [],
   "source": [
    "from sklearn.datasets import load_files\n",
    "import pandas as pd\n",
    "from bs4 import BeautifulSoup\n",
    "from sklearn.feature_extraction.text import TfidfVectorizer\n",
    "from sklearn.feature_extraction.text import CountVectorizer\n",
    "from sklearn.model_selection import train_test_split\n",
    "from sklearn.naive_bayes import MultinomialNB\n",
    "import pickle\n",
    "import re\n",
    "import konlpy\n",
    "import nltk\n",
    "import numpy as np"
   ]
  },
  {
   "cell_type": "code",
   "execution_count": 2,
   "id": "b6178226",
   "metadata": {
    "scrolled": true
   },
   "outputs": [
    {
     "name": "stderr",
     "output_type": "stream",
     "text": [
      "[nltk_data] Downloading package punkt to C:\\Users\\hi-\n",
      "[nltk_data]     sinchon\\AppData\\Roaming\\nltk_data...\n",
      "[nltk_data]   Package punkt is already up-to-date!\n"
     ]
    }
   ],
   "source": [
    "def clean_korean_documents(documents):\n",
    "    #텍스트 정제 (HTML 태그 제거)\n",
    "    for i, document in enumerate(documents):\n",
    "        document = BeautifulSoup(document, 'html.parser').text \n",
    "        documents[i] = document\n",
    "\n",
    "    #텍스트 정제 (특수기호 제거)\n",
    "    for i, document in enumerate(documents):\n",
    "        document = re.sub(r'[^ ㄱ-ㅣ가-힣]', '', document) #특수기호 제거, 정규 표현식\n",
    "        documents[i] = document\n",
    "        \n",
    "    #텍스트 정제 (형태소 분석)\n",
    "    for i, document in enumerate(documents):\n",
    "        okt = konlpy.tag.Okt()\n",
    "        clean_words = []\n",
    "        for word in okt.pos(document, stem=True): #어간 추출\n",
    "            if word[1] in ['Noun', 'Verb', 'Adjective']: #명사, 동사, 형용사\n",
    "                clean_words.append(word[0])\n",
    "        document = ' '.join(clean_words)\n",
    "        documents[i] = document\n",
    "        \n",
    "    #텍스트 정제 (불용어 제거)\n",
    "    df = pd.read_csv('https://raw.githubusercontent.com/cranberryai/todak_todak_python/master/machine_learning_text/clean_korean_documents/korean_stopwords.txt', header=None)\n",
    "    df[0] = df[0].apply(lambda x: x.strip())\n",
    "    stopwords = df[0].to_numpy()\n",
    "    nltk.download('punkt')\n",
    "    for i, document in enumerate(documents):\n",
    "        clean_words = [] \n",
    "        for word in nltk.tokenize.word_tokenize(document): \n",
    "            if word not in stopwords: #불용어 제거\n",
    "                clean_words.append(word)\n",
    "        documents[i] = ' '.join(clean_words)  \n",
    "        \n",
    "    return documents\n",
    "\n",
    "##########데이터 로드\n",
    "\n",
    "naver_news = load_files('D:/webservice/final/whatthispills/ml/newsData/', shuffle=True)\n",
    "\n",
    "labels = ['정치', '경제', '사회', '생활/문화', '세계', '기술/IT', '연예', '스포츠']\n",
    "\n",
    "##########데이터 분석\n",
    "\n",
    "##########데이터 전처리\n",
    "\n",
    "x_data = naver_news.data\n",
    "x_data = x_data[:2] #데이터를 50개로 제한\n",
    "\n",
    "x_data = [x.decode('utf-8') for x in x_data] #바이트를 문자열로 바꾸기\n",
    "x_data = clean_korean_documents(x_data) #텍스트 정제"
   ]
  },
  {
   "cell_type": "code",
   "execution_count": 3,
   "id": "eee6847e",
   "metadata": {},
   "outputs": [
    {
     "data": {
      "text/html": [
       "<style>#sk-container-id-1 {color: black;background-color: white;}#sk-container-id-1 pre{padding: 0;}#sk-container-id-1 div.sk-toggleable {background-color: white;}#sk-container-id-1 label.sk-toggleable__label {cursor: pointer;display: block;width: 100%;margin-bottom: 0;padding: 0.3em;box-sizing: border-box;text-align: center;}#sk-container-id-1 label.sk-toggleable__label-arrow:before {content: \"▸\";float: left;margin-right: 0.25em;color: #696969;}#sk-container-id-1 label.sk-toggleable__label-arrow:hover:before {color: black;}#sk-container-id-1 div.sk-estimator:hover label.sk-toggleable__label-arrow:before {color: black;}#sk-container-id-1 div.sk-toggleable__content {max-height: 0;max-width: 0;overflow: hidden;text-align: left;background-color: #f0f8ff;}#sk-container-id-1 div.sk-toggleable__content pre {margin: 0.2em;color: black;border-radius: 0.25em;background-color: #f0f8ff;}#sk-container-id-1 input.sk-toggleable__control:checked~div.sk-toggleable__content {max-height: 200px;max-width: 100%;overflow: auto;}#sk-container-id-1 input.sk-toggleable__control:checked~label.sk-toggleable__label-arrow:before {content: \"▾\";}#sk-container-id-1 div.sk-estimator input.sk-toggleable__control:checked~label.sk-toggleable__label {background-color: #d4ebff;}#sk-container-id-1 div.sk-label input.sk-toggleable__control:checked~label.sk-toggleable__label {background-color: #d4ebff;}#sk-container-id-1 input.sk-hidden--visually {border: 0;clip: rect(1px 1px 1px 1px);clip: rect(1px, 1px, 1px, 1px);height: 1px;margin: -1px;overflow: hidden;padding: 0;position: absolute;width: 1px;}#sk-container-id-1 div.sk-estimator {font-family: monospace;background-color: #f0f8ff;border: 1px dotted black;border-radius: 0.25em;box-sizing: border-box;margin-bottom: 0.5em;}#sk-container-id-1 div.sk-estimator:hover {background-color: #d4ebff;}#sk-container-id-1 div.sk-parallel-item::after {content: \"\";width: 100%;border-bottom: 1px solid gray;flex-grow: 1;}#sk-container-id-1 div.sk-label:hover label.sk-toggleable__label {background-color: #d4ebff;}#sk-container-id-1 div.sk-serial::before {content: \"\";position: absolute;border-left: 1px solid gray;box-sizing: border-box;top: 0;bottom: 0;left: 50%;z-index: 0;}#sk-container-id-1 div.sk-serial {display: flex;flex-direction: column;align-items: center;background-color: white;padding-right: 0.2em;padding-left: 0.2em;position: relative;}#sk-container-id-1 div.sk-item {position: relative;z-index: 1;}#sk-container-id-1 div.sk-parallel {display: flex;align-items: stretch;justify-content: center;background-color: white;position: relative;}#sk-container-id-1 div.sk-item::before, #sk-container-id-1 div.sk-parallel-item::before {content: \"\";position: absolute;border-left: 1px solid gray;box-sizing: border-box;top: 0;bottom: 0;left: 50%;z-index: -1;}#sk-container-id-1 div.sk-parallel-item {display: flex;flex-direction: column;z-index: 1;position: relative;background-color: white;}#sk-container-id-1 div.sk-parallel-item:first-child::after {align-self: flex-end;width: 50%;}#sk-container-id-1 div.sk-parallel-item:last-child::after {align-self: flex-start;width: 50%;}#sk-container-id-1 div.sk-parallel-item:only-child::after {width: 0;}#sk-container-id-1 div.sk-dashed-wrapped {border: 1px dashed gray;margin: 0 0.4em 0.5em 0.4em;box-sizing: border-box;padding-bottom: 0.4em;background-color: white;}#sk-container-id-1 div.sk-label label {font-family: monospace;font-weight: bold;display: inline-block;line-height: 1.2em;}#sk-container-id-1 div.sk-label-container {text-align: center;}#sk-container-id-1 div.sk-container {/* jupyter's `normalize.less` sets `[hidden] { display: none; }` but bootstrap.min.css set `[hidden] { display: none !important; }` so we also need the `!important` here to be able to override the default hidden behavior on the sphinx rendered scikit-learn.org. See: https://github.com/scikit-learn/scikit-learn/issues/21755 */display: inline-block !important;position: relative;}#sk-container-id-1 div.sk-text-repr-fallback {display: none;}</style><div id=\"sk-container-id-1\" class=\"sk-top-container\"><div class=\"sk-text-repr-fallback\"><pre>TfidfVectorizer()</pre><b>In a Jupyter environment, please rerun this cell to show the HTML representation or trust the notebook. <br />On GitHub, the HTML representation is unable to render, please try loading this page with nbviewer.org.</b></div><div class=\"sk-container\" hidden><div class=\"sk-item\"><div class=\"sk-estimator sk-toggleable\"><input class=\"sk-toggleable__control sk-hidden--visually\" id=\"sk-estimator-id-1\" type=\"checkbox\" checked><label for=\"sk-estimator-id-1\" class=\"sk-toggleable__label sk-toggleable__label-arrow\">TfidfVectorizer</label><div class=\"sk-toggleable__content\"><pre>TfidfVectorizer()</pre></div></div></div></div></div>"
      ],
      "text/plain": [
       "TfidfVectorizer()"
      ]
     },
     "execution_count": 3,
     "metadata": {},
     "output_type": "execute_result"
    }
   ],
   "source": [
    "tfidf = TfidfVectorizer()\n",
    "tfidf.fit(x_data)"
   ]
  },
  {
   "cell_type": "code",
   "execution_count": 4,
   "id": "13c10f91",
   "metadata": {
    "scrolled": false
   },
   "outputs": [
    {
     "data": {
      "text/plain": [
       "['가능하다 있다 있다 아니다 있다 아니다 고급스럽다',\n",
       " '뚜렷하다 어떻다 다르다 아니다 이다 이다 이다 좋다 자세하다 있다 좋다 좋아하다 있다 편하다 이다 있다 필요하다 있다 있다 기발하다 새롭다 있다 이다']"
      ]
     },
     "execution_count": 4,
     "metadata": {},
     "output_type": "execute_result"
    }
   ],
   "source": [
    "x_data[0:2]"
   ]
  },
  {
   "cell_type": "code",
   "execution_count": 115,
   "id": "02b13a36",
   "metadata": {
    "scrolled": false
   },
   "outputs": [
    {
     "data": {
      "text/html": [
       "<div>\n",
       "<style scoped>\n",
       "    .dataframe tbody tr th:only-of-type {\n",
       "        vertical-align: middle;\n",
       "    }\n",
       "\n",
       "    .dataframe tbody tr th {\n",
       "        vertical-align: top;\n",
       "    }\n",
       "\n",
       "    .dataframe thead th {\n",
       "        text-align: right;\n",
       "    }\n",
       "</style>\n",
       "<table border=\"1\" class=\"dataframe\">\n",
       "  <thead>\n",
       "    <tr style=\"text-align: right;\">\n",
       "      <th></th>\n",
       "      <th>가능하다</th>\n",
       "      <th>있다</th>\n",
       "      <th>아니다</th>\n",
       "      <th>고급스럽다</th>\n",
       "      <th>뚜렷하다</th>\n",
       "      <th>어떻다</th>\n",
       "      <th>다르다</th>\n",
       "      <th>이다</th>\n",
       "      <th>좋다</th>\n",
       "      <th>자세하다</th>\n",
       "      <th>좋아하다</th>\n",
       "      <th>편하다</th>\n",
       "      <th>필요하다</th>\n",
       "      <th>기발하다</th>\n",
       "      <th>새롭다</th>\n",
       "    </tr>\n",
       "  </thead>\n",
       "  <tbody>\n",
       "    <tr>\n",
       "      <th>0</th>\n",
       "      <td>0.341371</td>\n",
       "      <td>0.341371</td>\n",
       "      <td>0.000000</td>\n",
       "      <td>0.000000</td>\n",
       "      <td>0.000000</td>\n",
       "      <td>0.000000</td>\n",
       "      <td>0.485777</td>\n",
       "      <td>0.000000</td>\n",
       "      <td>0.000000</td>\n",
       "      <td>0.728665</td>\n",
       "      <td>0.000000</td>\n",
       "      <td>0.000000</td>\n",
       "      <td>0.000000</td>\n",
       "      <td>0.000000</td>\n",
       "      <td>0.000000</td>\n",
       "    </tr>\n",
       "    <tr>\n",
       "      <th>1</th>\n",
       "      <td>0.000000</td>\n",
       "      <td>0.000000</td>\n",
       "      <td>0.132767</td>\n",
       "      <td>0.132767</td>\n",
       "      <td>0.132767</td>\n",
       "      <td>0.132767</td>\n",
       "      <td>0.094465</td>\n",
       "      <td>0.132767</td>\n",
       "      <td>0.663834</td>\n",
       "      <td>0.566788</td>\n",
       "      <td>0.132767</td>\n",
       "      <td>0.265534</td>\n",
       "      <td>0.132767</td>\n",
       "      <td>0.132767</td>\n",
       "      <td>0.132767</td>\n",
       "    </tr>\n",
       "  </tbody>\n",
       "</table>\n",
       "</div>"
      ],
      "text/plain": [
       "       가능하다        있다       아니다     고급스럽다      뚜렷하다       어떻다       다르다   \n",
       "0  0.341371  0.341371  0.000000  0.000000  0.000000  0.000000  0.485777  \\\n",
       "1  0.000000  0.000000  0.132767  0.132767  0.132767  0.132767  0.094465   \n",
       "\n",
       "         이다        좋다      자세하다      좋아하다       편하다      필요하다      기발하다   \n",
       "0  0.000000  0.000000  0.728665  0.000000  0.000000  0.000000  0.000000  \\\n",
       "1  0.132767  0.663834  0.566788  0.132767  0.265534  0.132767  0.132767   \n",
       "\n",
       "        새롭다  \n",
       "0  0.000000  \n",
       "1  0.132767  "
      ]
     },
     "execution_count": 115,
     "metadata": {},
     "output_type": "execute_result"
    }
   ],
   "source": [
    "df = pd.DataFrame(tfidf.transform(x_data).toarray(), columns=tfidf.vocabulary_)\n",
    "df.head()"
   ]
  },
  {
   "cell_type": "code",
   "execution_count": 116,
   "id": "416cf698",
   "metadata": {},
   "outputs": [
    {
     "data": {
      "text/plain": [
       "자세하다     0.728665\n",
       "다르다      0.485777\n",
       "가능하다     0.341371\n",
       "있다       0.341371\n",
       "아니다      0.000000\n",
       "고급스럽다    0.000000\n",
       "뚜렷하다     0.000000\n",
       "어떻다      0.000000\n",
       "이다       0.000000\n",
       "좋다       0.000000\n",
       "좋아하다     0.000000\n",
       "편하다      0.000000\n",
       "필요하다     0.000000\n",
       "기발하다     0.000000\n",
       "새롭다      0.000000\n",
       "Name: 0, dtype: float64"
      ]
     },
     "execution_count": 116,
     "metadata": {},
     "output_type": "execute_result"
    }
   ],
   "source": [
    "df.iloc[0].sort_values(ascending=False)"
   ]
  },
  {
   "cell_type": "code",
   "execution_count": 117,
   "id": "edcb0203",
   "metadata": {},
   "outputs": [
    {
     "data": {
      "text/plain": [
       "좋다       0.663834\n",
       "자세하다     0.566788\n",
       "편하다      0.265534\n",
       "아니다      0.132767\n",
       "고급스럽다    0.132767\n",
       "뚜렷하다     0.132767\n",
       "어떻다      0.132767\n",
       "이다       0.132767\n",
       "좋아하다     0.132767\n",
       "필요하다     0.132767\n",
       "기발하다     0.132767\n",
       "새롭다      0.132767\n",
       "다르다      0.094465\n",
       "가능하다     0.000000\n",
       "있다       0.000000\n",
       "Name: 1, dtype: float64"
      ]
     },
     "execution_count": 117,
     "metadata": {},
     "output_type": "execute_result"
    }
   ],
   "source": [
    "df.iloc[1].sort_values(ascending=False)"
   ]
  },
  {
   "cell_type": "code",
   "execution_count": null,
   "id": "903ee560",
   "metadata": {},
   "outputs": [],
   "source": []
  }
 ],
 "metadata": {
  "kernelspec": {
   "display_name": "ex_kernel",
   "language": "python",
   "name": "ex"
  },
  "language_info": {
   "codemirror_mode": {
    "name": "ipython",
    "version": 3
   },
   "file_extension": ".py",
   "mimetype": "text/x-python",
   "name": "python",
   "nbconvert_exporter": "python",
   "pygments_lexer": "ipython3",
   "version": "3.8.10"
  },
  "toc": {
   "base_numbering": 1,
   "nav_menu": {},
   "number_sections": true,
   "sideBar": true,
   "skip_h1_title": false,
   "title_cell": "Table of Contents",
   "title_sidebar": "Contents",
   "toc_cell": false,
   "toc_position": {},
   "toc_section_display": true,
   "toc_window_display": false
  }
 },
 "nbformat": 4,
 "nbformat_minor": 5
}
