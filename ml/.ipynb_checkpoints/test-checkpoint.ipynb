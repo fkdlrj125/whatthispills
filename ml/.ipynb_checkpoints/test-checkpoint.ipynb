{
 "cells": [
  {
   "cell_type": "code",
   "execution_count": 1,
   "id": "e6939651",
   "metadata": {},
   "outputs": [],
   "source": [
    "from sklearn.feature_extraction.text import TfidfVectorizer\n",
    "from bs4 import BeautifulSoup\n",
    "import requests\n",
    "import pandas as pd\n",
    "import re\n",
    "import os"
   ]
  },
  {
   "cell_type": "code",
   "execution_count": 10,
   "id": "5acd5a6a",
   "metadata": {},
   "outputs": [
    {
     "data": {
      "text/plain": [
       "<Response [403]>"
      ]
     },
     "execution_count": 10,
     "metadata": {},
     "output_type": "execute_result"
    }
   ],
   "source": [
    "url = 'https://www.coupang.com/vp/product/reviews?productId=6432166864&page=2&size=5&sortBy=ORDER_SCORE_ASC&ratings=&q=&viRoleCode=2&ratingSummary=true'\n",
    "headers = {\n",
    "    \"authority\": \"www.coupang.com\",\n",
    "    \"method\": \"GET\",\n",
    "    \"accept\": \"*/*\",\n",
    "    \"accept-encoding\": \"gzip, deflate, br\",\n",
    "    \"user-agent\": \"Mozilla/5.0 (Macintosh; Intel Mac OS X 10_15_7) AppleWebKit/537.36 (KHTML, like Gecko) Chrome/98.0.4758.104 Whale/3.13.131.36 Safari/537.36\",\n",
    "    \"sec-ch-ua-platform\": \"macOS\",\n",
    "    \"cookie\": \"PCID=16864458832213034196417; MARKETID=16864458832213034196417; trac_src=1139000; trac_spec=10799999; trac_addtag=200; trac_ctag=SAT%2C%EC%8F%9C%EB%A6%AC%EC%84%9C%EC%B9%98; trac_lptag=AF1537388; trac_itime=20230611101123; bm_sz=DB8779C1249944427AD0C823D909BA75~YAAQa3pGaCU6YZCIAQAAZv8BqBScZqjq2S3Ywo4LgWylfEZLBM15LZC+InxtxfMkL5BoWB7UIlE+3Sd6VfuKpKt4KHAT1R5kGmJ5QqwqOUuN1GfiMu0acWS+DNKWA1Giv02lnhdILvbCeIKedPEsOzEpcRL8gGfp0wWZWljU62IZgqiR5det1zoUXJup1M8WNFBYtqg6wyl6RjJJ/UiylDDdIi7ESogEL8jfLbkqx1+bE9f5+dsByJQHd25EPUnllicaMHfwictOuZ7ca2mKEaAwaOkmGE+48wJ1kaQZ1afNFsFP~3486520~3753012; sid=8836f178c75b43dc8c92c557a7dc7fcaf11df3a7; x-coupang-accept-language=ko-KR; x-coupang-target-market=KR; _fbp=fb.1.1686445885492.1743578172; ak_bmsc=354F40FDB10BF9D85133B17E880053BA~000000000000000000000000000000~YAAQPZlMF47ts6GIAQAAdAoCqBQOTpFKarfq06oxI5erbSF0PrrJexg1txtcBfViyuYohlyuCvwW8xkjTorLz0O34W9G0IejpVpn2dhujqEYV1wP2lHMsZs01upirgEeiF0tSupjZsIs0zvoHmqlUXd7LIVNblcgIn+i3TcB6gKRwZJm7ts6gKTv0bZIGA84m1X5p6+wTs6LNVUhA3xWqa0jU71bDN7NI6Mqr8tSOjL/dxfWnZFrM4IfiHyVIw1jXDlhm18+PPHAlUlnONJIPnLsJrLTWpodFgajeVC6s88EVvn0rRqa3SErRbKPgxpB8iw8X778SiZ5kz3r2MPKgBNLMn8HQbQxf8joGe2614h9VdXlSnhWDsocKk28iDjqAgmH/6pi2jFHNSJCjiExzqLw90WYgWlmnkdfdDeJ+vOgCo3Tl+k5ICyK3k+Sqa5CfaZaeunUSWLeRrrJPe4GSgRvyxnCbr7wDBcp/PU7ESl5Ragn/UKPd00TUpYc5Q==; _abck=0125DA45530C333CAF8D4B845777873E~0~YAAQrTggF8MgX6KIAQAAKf1sqAoyUt1bI3U3pX77DGS6cuPuws/bbEJ3Eh2ujJVzb0Cvpn7ucO9xpERFvVe1Sf395XtnaexAKFBt8u7eOMNxjUtw5iG/VcyqAgvlxW8JQ0LI31wmZcHf1RHrGxz438zy2KuNJ9KMBJJ0nE6iwiku0n47IOTwDljmwWMnEiZ49M0j3kXQQ23chkKPXWa+IQaIsfCKLYQHVy/P8H+9Kj21wCmY2C19O59+LSFx4BYjLGn77BGlwhBv+d5P29hiDZwK8Fywhy4L8RDPlOXxKCbGY2eTXbtYnZexWoGAeMLjk8IS2irFMvM107bgBpd+bWYwumvkBbjpHYo617kx7sQGoAK9+BXnOHYIm4oB7/TGjN4ycCteoe97RzkDRsIWipCrsmpMOHFSQAOuKFMFlyZHS6ZZIzWm~-1~-1~-1; overrideAbTestGroup=%5B%5D; cto_bundle=pZNBGV9jRGw0a21wak1rT08xcms5U2FhUGJKcHQycW9GcnM3TkZuaTBBdjR2NFZqckNaZ1VCMERLanJPS1BaSHd6Vk5qeU1BQm4zTDRXT3dCbFpYZFVYMUllOHdaRGRWaWRPTSUyRkJPWkNLeE5OVW15ZVYxQlQ0a1BCdkFHRWl1RGw3c3N6b1RsNUc3bnoyU21oWmpaYVVab0xYUSUzRCUzRA; baby-isWide=small; bm_sv=10702A4B23DB537A6549F1538927F883~YAAQrTggF8KgX6KIAQAAXoxtqBTnP0p1Ddnml0Yghc31sor7vgdE9Pt2/iEw6ViQtchnSm65wh1M6waYCB+MLUk1DLKkKNuz1RXIVnXYohuGej5U3D1ENIck0ncTX0XtKs38nIybhskpTPJHvLGd2x0YITNCghiNfVecAXf4BDXsZWkTw0lWIRJowVVlWkwJHtpzafBxQFmggcoOSHHPfX4nhI5fDY2wLsCFFAQj68v8Q9WYRTt5TjigNgDSNYQXFKI=~1\",\n",
    "    \"refer\": \"https://www.coupang.com/vp/products/6432166864?itemId=13885840489&vendorItemId=3191268334&q=SAT%2C%EC%8F%9C%EB%A6%AC%EC%84%9C%EC%B9%98&itemsCount=36&searchId=4f012f2c79394768aa8ab4b3d95d364b&rank=1&isAddedCart=\"\n",
    "}\n",
    "\n",
    "res = requests.get(url, headers = headers)\n",
    "res"
   ]
  },
  {
   "cell_type": "code",
   "execution_count": null,
   "id": "22832b32",
   "metadata": {},
   "outputs": [],
   "source": []
  },
  {
   "cell_type": "code",
   "execution_count": null,
   "id": "b02a37f3",
   "metadata": {},
   "outputs": [],
   "source": []
  },
  {
   "cell_type": "code",
   "execution_count": null,
   "id": "fd5a5882",
   "metadata": {},
   "outputs": [],
   "source": []
  },
  {
   "cell_type": "code",
   "execution_count": null,
   "id": "cd71b636",
   "metadata": {},
   "outputs": [],
   "source": []
  },
  {
   "cell_type": "code",
   "execution_count": null,
   "id": "db002a27",
   "metadata": {},
   "outputs": [],
   "source": []
  }
 ],
 "metadata": {
  "kernelspec": {
   "display_name": "ex_kernel",
   "language": "python",
   "name": "ex"
  },
  "language_info": {
   "codemirror_mode": {
    "name": "ipython",
    "version": 3
   },
   "file_extension": ".py",
   "mimetype": "text/x-python",
   "name": "python",
   "nbconvert_exporter": "python",
   "pygments_lexer": "ipython3",
   "version": "3.8.10"
  }
 },
 "nbformat": 4,
 "nbformat_minor": 5
}
