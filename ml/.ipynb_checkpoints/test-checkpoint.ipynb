{
 "cells": [
  {
   "cell_type": "code",
   "execution_count": 3,
   "id": "e6939651",
   "metadata": {},
   "outputs": [],
   "source": [
    "from sklearn.feature_extraction.text import TfidfVectorizer\n",
    "from selenium import webdriver\n",
    "from selenium.webdriver.common.by import By\n",
    "from selenium.webdriver.common.keys import Keys\n",
    "from bs4 import BeautifulSoup\n",
    "import requests\n",
    "import pandas as pd\n",
    "import re\n",
    "import os\n",
    "import pickle\n",
    "import re\n",
    "import konlpy\n",
    "import nltk\n",
    "import numpy as np"
   ]
  },
  {
   "cell_type": "code",
   "execution_count": 2,
   "id": "5acd5a6a",
   "metadata": {},
   "outputs": [],
   "source": [
    "url = 'https://www.coupang.com/vp/products/6432166864?itemId=13885840489&vendorItemId=3191268334&pickType=COU_PICK&q=SAT%2C%EC%8F%9C%EB%A6%AC%EC%84%9C%EC%B9%98&itemsCount=36&searchId=359d9b926c5c4c94b51af5fc71cf063b&rank=0&isAddedCart='\n",
    "\n",
    "driver = webdriver.Chrome()\n",
    "driver.get(url)"
   ]
  },
  {
   "cell_type": "code",
   "execution_count": null,
   "id": "54afba4a",
   "metadata": {},
   "outputs": [],
   "source": [
    "driver.find_element(By.XPATH, '//*[@id=\"btfTab\"]/ul[1]/li[2]').click()"
   ]
  },
  {
   "cell_type": "code",
   "execution_count": 15,
   "id": "22832b32",
   "metadata": {},
   "outputs": [],
   "source": [
    "reviews = driver.find_elements(By.CSS_SELECTOR, '.js_reviewArticleListContainer article')"
   ]
  },
  {
   "cell_type": "code",
   "execution_count": 24,
   "id": "3e7863eb",
   "metadata": {},
   "outputs": [],
   "source": [
    "review_list = list()"
   ]
  },
  {
   "cell_type": "code",
   "execution_count": 25,
   "id": "b02a37f3",
   "metadata": {},
   "outputs": [],
   "source": [
    "for review in reviews[:3]:\n",
    "    rating = review.find_element(By.CLASS_NAME, 'js_reviewArticleRatingValue').get_attribute('data-rating')\n",
    "    comment = review.find_element(By.CLASS_NAME, 'sdp-review__article__list__headline').text\n",
    "    comment += review.find_element(By.CLASS_NAME, 'sdp-review__article__list__review__content').text.replace('\\n', ' ')\n",
    "    review_list.append({'rating' : rating, 'comment' : comment})\n",
    "    "
   ]
  },
  {
   "cell_type": "code",
   "execution_count": 26,
   "id": "fd5a5882",
   "metadata": {},
   "outputs": [
    {
     "data": {
      "text/plain": [
       "[{'rating': '5',\n",
       "  'comment': '간건강에 최고 너무 좋아요 추천드려요!평소 음주를 자주 하는 편이고 잠을 많이 못자는 상황이라 나이도 있고 해서 영양제에 관심이 많은편입니다. 항상 먹고 있는 제품인 쏜리서치 S.A.T. 캡슐, 60정, 2개 를 재구매했어요  이 제품은 워낙 유명한 제품이죠 쏜리서치라는 믿을수 있는 회사의 제품이고 특히 내용물들이 너무 좋아요 밀크시슬 이라고 불리우는 실리마린은 간기능개선을 도와줍니다. 독소로부터 간손상을 예방하고 강력한 항산화작용을 한다고해요 피로회복에도 큰 역활을 합니다 . 간이 좋지 않으면 피로감을 쉽게 느끼는데 이 제품을 복용하면 피로감이 덜 느껴졌어요 그 뿐 아니라 아티초코 라는 성분은 간 독소제거의 최고봉이라고 불리우는데 아티초코 역시 충분하게 들어있었습니다. 비타민 a b c e 등 비타민계 역시14종 함유 되어있는 제품이구요 강황 커큐민은 두뇌건강,관절염치료 항염효과로 몸속 염증 제거와 면연력 상승효과도 볼수 있다고 해요 간 영양제 인지 알았는데 이렇게나 많은 역활을 하고 있는 제품이였어요 60정이고 일반분들은 하루 한알 드시면되는데 음주를 자주 하신다거나 하시는분들은 최대 3알 까지 복용 하셔도 된다고해요 식후에 드시는 걸 추천드리구요 알약이 좀 크긴 한데 목넘김에 전혀 문제가 없었고 냄새가 올라온다는 등에 문제도 없었습니다. 하루 이틀 먹었다고 큰 효과는 볼수 없으나 일주일 정도 꾸준하게 잘 지켜 드신다면 개인적으로는 좋은 효과를 볼수 있었습니다.  요약해보자면요 간 독소제거 항산화 효과 염증제거등 좋은 재료들로 좋은 효과를 줍니다. 피로회복 효과도 볼수있었고 알약이 조금 크긴 하지만 목넘김에는 큰 무리가 없었어요 달아서 먹고 있는 제품이라 자신있게 추천드릴수 있어요 꼭 드셔보세요 추천드려요!'},\n",
       " {'rating': '5',\n",
       "  'comment': '소리 없이 아파지는 간을 위해서라면..간이 아픈 건 소리없이 찾아온다죠..  그래서 N년째 꾸준히 먹고 있는 영양제 입니다.  우연히 쏜리서치 제품을 알게 되어서 먹어보니까 좋은 것 같아요.   ■ 건강검진을 받고 왔는데요.  쏜리서치 제품 몇 년째 먹다가 건강검진 받으러 갔어요.  남편은 비알콜성 간수치가 있구요(술 안먹는 사람이고, 대신 밥을 많이 먹습니다;;)  저는 원래 간수치는 정상인 사람이구요.  남편은 간수치가 작년보다는 아주 약간 내려갔습니다.  살은 안뺐는데; 약간 영향이 있긴 한가봐요.  그래도 영양제니까 예방목적으로 생각하면서 먹는 게 맞는 것 같아요!   ■ 피로도  남편이 피로도가 다르다네요.  그래서 하루도 빠짐없이 먹어요.  직장인이라면 빼놓을 수 없는 피로도...만성피로..  물론 잠을 일찍 자야겠지만  점심에 먹으면 뭔가 피로함이 다르다고.  그래서 안먹어 본 날도 있었는데  먹는날과 안먹은 날의 피로도가 다르긴 하다고 합니다 ㅋㅋ   ■ 냄새  냄새는 캡슐채로는 거이 향이 안나고  캡슐을 벗기면 강황 향이 납니다!  이게 맞아요!!  강황+카레 이런 향!  강황이 간에 좋다고 유명하쥬~  캡슐으로 꼭 먹어야 합니당  그냥 가루로 먹으면 위장이 안좋아져요  캡슐이 식물성이라서 몸에 절대 해롭지 않아요.  쏜리써치 이 캡슐은 흡수력도 높아준다고 합니다!  타사는 그냥 배출되는 경우가 많아서 실제로 체내에 흡수되는 경우가 적다고 하는데,  쏜리써지는 그렇지 않아서~ 제가 계속 먹는 이유 중 하나기도 해요 ㅎㅎ   ■ SAT  S 실크마린 A 아티초크 T 커큐민  커큐민은 강황에도 있는 성분!  이 성분 3가지는 유명한 성분들이에요. 간에 좋다는.   ■ 몇 년째 먹어본 결과..  정상의 간을 가지고 있는 저한테는 간의 질환 예방 목적으로 먹고 있는데,  몇 년째 건강검진을 해봐도 간수치가 높게 나오거나 그러진 않았어요!  그리고 간은 아프지 않고 찾아오는 질병이라고 해서  미래를 위해 열심히 먹고 있답니다!!  단 저는 밥 먹고 안먹으면 속이 좀 안좋았다는 점! 위장은 원래 좀 약한편이라..  남편은 빈속에 먹어도 상관없다고 하네요.  간수치가 좀 있는 남편은 건강검진 때 수치가 약간 내려갔지만  나머지는 살을 빼야할 것 같습니다...^^..'},\n",
       " {'rating': '5',\n",
       "  'comment': '캡슐형태라 냄새 안나고 간편하게 섭취할 수 있어요!⭐구매동기⭐  최근 들어 몸이 찌뿌둥하고 좀만 움직여도 피곤하더라고요. 그래서 영양제를 하나 구매해서 먹어보기로 마음먹고 구매하게 되었어요. 제가 피부에 가꾸는데 관심이 많아서 최근에 주름앰플인 임피엘 링클을 꾸준히 바르면서 효과를 보고 있는데 바르는 것뿐만 아니라 먹는 것도 중요하다는 생각이 들어서 이왕 구매하는 거 피부에도 도움이 되는 제품으로 알아보다가 쏜리서치 S.A.T. 캡슐을 구매하게 되었어요.    ☀️상품정보☀️  제품명: 쏜리서치 S.A.T. 캡슐  1회 제공량: 캡슐 1개  ⭐캡슐 1개에 포함 성분⭐ 실리빈 피토솜(실리마린 마리아눔 추출물(과일)/해바라기의 포스파티딜콜린 복합체)=> 150mg 아티초크 추출물(잎)(Cynara scolymus) => 150mg Curcumin Phytosome(Curcuma longa 추출물(뿌리)/해바리기의 인지질 복합체)  ⭐권장 사용⭐ ✔1일 2~3회 1캡슐을 섭취하거나 의사의 지시에 따라 섭취하십시오.  ⭐주의사항⭐ ✔서늘하고 건조한 곳에 단단히 밀봉하여 보관하십시오. ✔임신한 경우 이 제품을 사용하기 전에 의사와 상담하십시오. ✔이 제품은 질병을 진단, 치효, 완치 또는 예방하기 위한 것이 아니며, 부작용이 발생하면 즉시 의료 전문가에게 문의하십시오.    ⭐제품 후기⭐  해외 제품이지만, 쿠팡 직구라서 생각보다 빠르게 받을 수 있었어요. 뚜껑을 열고 내용물을 보니까 캡슐이 투명해서 속에 누런 가루가 보이더라고요. 캡슐 형태라서 별 다른 냄새도 나지 않아서 좋았고, 한 번에 1캡슐만 먹으면 돼서 섭취하기 쉬웠어요. 현재 2주동안 섭취하고 있는데 확실히 먹기 전보다 피로감이 덜하더라고요. 지금까지 왜 버티고 있었을까 후회하는 중이에요 그 만큼 몸을 많이 움직여도 쉽게 피로하지 않고, 몸이 버텨낸다는 느낌이 들어서 만족하면서 섭취하고 있어요. 저뿐만 아니라 술을 그렇게 좋아하는 저희 남편도 함께 먹고 있는데 뭔가 효과가 있는 것 같다면서 회식하고 전보다 축축 늘어지는 현상이 사라지고 있다고 좋아하네요 ㅎㅎ 꾸준히 한 번 먹어보려고요!  저의 리뷰가 도움이 되셨다면 도움이 돼요 버튼 한번씩만 눌러주세요!'}]"
      ]
     },
     "execution_count": 26,
     "metadata": {},
     "output_type": "execute_result"
    }
   ],
   "source": [
    "review_list"
   ]
  },
  {
   "cell_type": "code",
   "execution_count": null,
   "id": "cd71b636",
   "metadata": {},
   "outputs": [],
   "source": [
    "def clean_review(reviews):\n",
    "    for idx, review in enumerate(reviews):\n",
    "        comment = re.sub(r'[^ ㄱ-ㅣ가-힣]', review['comment']) # 특수기호 제거, 정규 표현식\n",
    "        \n",
    "        okt = konlpy.tag.Okt()\n",
    "        clean_words = []\n",
    "        for word in okt.pos(comment, stem=True): #어간 추출\n",
    "            if word[1] in ['Noun', 'Verb', 'Adjective']: #명사, 동사, 형용사\n",
    "                clean_words.append(word[0])\n",
    "        document = ' '.join(clean_words)\n"
   ]
  },
  {
   "cell_type": "code",
   "execution_count": null,
   "id": "db002a27",
   "metadata": {},
   "outputs": [],
   "source": []
  }
 ],
 "metadata": {
  "kernelspec": {
   "display_name": "ex_kernel",
   "language": "python",
   "name": "ex"
  },
  "language_info": {
   "codemirror_mode": {
    "name": "ipython",
    "version": 3
   },
   "file_extension": ".py",
   "mimetype": "text/x-python",
   "name": "python",
   "nbconvert_exporter": "python",
   "pygments_lexer": "ipython3",
   "version": "3.8.10"
  },
  "toc": {
   "base_numbering": 1,
   "nav_menu": {},
   "number_sections": true,
   "sideBar": true,
   "skip_h1_title": false,
   "title_cell": "Table of Contents",
   "title_sidebar": "Contents",
   "toc_cell": false,
   "toc_position": {},
   "toc_section_display": true,
   "toc_window_display": false
  }
 },
 "nbformat": 4,
 "nbformat_minor": 5
}
