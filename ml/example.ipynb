{
 "cells": [
  {
   "cell_type": "code",
   "execution_count": 2,
   "id": "8b4bdc34",
   "metadata": {},
   "outputs": [],
   "source": [
    "from sklearn.datasets import load_files\n",
    "import pandas as pd\n",
    "from bs4 import BeautifulSoup\n",
    "from sklearn.feature_extraction.text import TfidfVectorizer\n",
    "from sklearn.feature_extraction.text import CountVectorizer\n",
    "from sklearn.model_selection import train_test_split\n",
    "from sklearn.naive_bayes import MultinomialNB\n",
    "import pickle\n",
    "import re\n",
    "import konlpy\n",
    "import nltk\n",
    "import numpy as np"
   ]
  },
  {
   "cell_type": "code",
   "execution_count": 3,
   "id": "b6178226",
   "metadata": {},
   "outputs": [
    {
     "name": "stdout",
     "output_type": "stream",
     "text": [
      "==================================================\n",
      "태양광으로 충전되는 ‘아이폰X 테슬라’\t(지디넷코리아=이정현 기자)도널드 트럼프 미국 대통령과 푸틴 러시아 대통령의 초상화를 새긴 황금 아이폰을 출시해 화제를 모았던 러시아 업체 캐비아(Caviar)가 이번엔 태양광 충전이 가능한 아이폰X를 판매한다고 IT매체 더버지가 16일(현지시간) 보도했다.\n",
      "\n",
      "\n",
      "이 업체는 주로 아이폰, 애플워치 등의 IT 제품들을 금으로 장식하고 개조해 고가에 판매하는 업체다.\n",
      "\n",
      "이 아이폰의 이름은 ‘아이폰X 테슬라(Tesla)’. 이 제품의 뒷면에는 태양 전지 패널이 있어 스마트폰을 뒤집어 놓기만 하면 충전이 되어 보조 배터리 형태로 사용할 수 있다.\n",
      "\n",
      "\n",
      "물론, 이 업체가 아이폰을 직접 만드는 것이 아니기 때문에 아이폰X에 탑재된 태양광 충전 기능은 아이폰에 직접 내장되어 있는 형태가 아닌 아이폰 바깥 쪽에 케이스 형태로 탑재된다. 또, 캐비아는 그 동안 제공했던 IT 제품들과 마찬가지로 고급스러움을 극대화 하기 위해 노력했다. 아이폰 뒷면 모서리와 후면 카메라 테두리 등 곳곳을 24k 금으로 장식했다.\n",
      "\n",
      "이 제품은 999대 한정 생산된다. 64GB 모델 아이폰X 테슬라의 가격은 4,555달러(약 490만 원), 256GB모델의 경우 4,805달러(약 517만원)다.\n",
      "==================================================\n",
      "\n",
      "==================================================\n",
      "태양광으로 충전되는 아이폰 테슬라지디넷코리아이정현 기자도널드 트럼프 미국 대통령과 푸틴 러시아 대통령의 초상화를 새긴 황금 아이폰을 출시해 화제를 모았던 러시아 업체 캐비아가 이번엔 태양광 충전이 가능한 아이폰를 판매한다고매체 더버지가 일현지시간 보도했다이 업체는 주로 아이폰 애플워치 등의제품들을 금으로 장식하고 개조해 고가에 판매하는 업체다이 아이폰의 이름은 아이폰 테슬라 이 제품의 뒷면에는 태양 전지 패널이 있어 스마트폰을 뒤집어 놓기만 하면 충전이 되어 보조 배터리 형태로 사용할 수 있다물론 이 업체가 아이폰을 직접 만드는 것이 아니기 때문에 아이폰에 탑재된 태양광 충전 기능은 아이폰에 직접 내장되어 있는 형태가 아닌 아이폰 바깥 쪽에 케이스 형태로 탑재된다 또 캐비아는 그 동안 제공했던제품들과 마찬가지로 고급스러움을 극대화 하기 위해 노력했다 아이폰 뒷면 모서리와 후면 카메라 테두리 등 곳곳을  금으로 장식했다이 제품은 대 한정 생산된다 모델 아이폰 테슬라의 가격은 달러약 만 원 모델의 경우 달러약 만원다\n",
      "==================================================\n",
      "\n",
      "==================================================\n",
      "태양광 충전 되다 아이폰 테슬라 디넷 코리아 이정현 기자 도널드 트럼프 미국 대통령 푸틴 러시아 대통령 초상화 새기다 황금 아이폰 출시 하다 화제 모으다 러시아 업체 캐비아 이번 태양광 충전 가능하다 아이폰 를 판매 하다 매체 더버지 시간 보도 하다 업체 주로 아이폰 애플 워치 등 제품 금 장식 개조 하다 고가 판매 하다 업체 아이폰 이름 아이폰 테슬라 이 제품 면 태양 전지 패널 있다 스마트폰 뒤지다 놓다 하다 충전 되어다 보조 배터리 형태 사용 하다 수 있다 이 업체 아이폰 직접 만들다 것 아니다 때문 아이폰 탑재 되다 태양광 충전 기능 아이폰 직접 내장 되어다 있다 형태 아니다 아이폰 바깥 쪽 케이스 형태 탑재 되다 또 캐비아 그 동안 제공 하다 제품 마찬가지 고급스럽다 움 대화 하다 위해 노력 하다 아이폰 면 모서리 후 카메라 테두리 등 곳곳 금 장식 하다 제품 대다 한정 생산 되다 모델 아이폰 테슬라 가격 달러 약 만 원 모델 경우 달러 약 만\n",
      "==================================================\n",
      "\n",
      "==================================================\n",
      "태양광 충전 되다 아이폰 테슬라 디넷 코리아 이정현 기자 도널드 트럼프 미국 대통령 푸틴 러시아 대통령 초상화 새기다 황금 아이폰 출시 하다 화제 모으다 러시아 업체 캐비아 이번 태양광 충전 가능하다 아이폰 를 판매 하다 매체 더버지 시간 보도 하다 업체 주로 아이폰 애플 워치 등 제품 금 장식 개조 하다 고가 판매 하다 업체 아이폰 이름 아이폰 테슬라 이 제품 면 태양 전지 패널 있다 스마트폰 뒤지다 놓다 하다 충전 되어다 보조 배터리 형태 사용 하다 수 있다 이 업체 아이폰 직접 만들다 것 아니다 때문 아이폰 탑재 되다 태양광 충전 기능 아이폰 직접 내장 되어다 있다 형태 아니다 아이폰 바깥 쪽 케이스 형태 탑재 되다 또 캐비아 그 동안 제공 하다 제품 마찬가지 고급스럽다 움 대화 하다 위해 노력 하다 아이폰 면 모서리 후 카메라 테두리 등 곳곳 금 장식 하다 제품 대다 한정 생산 되다 모델 아이폰 테슬라 가격 달러 약 만 원 모델 경우 달러 약 만\n",
      "==================================================\n",
      "\n"
     ]
    },
    {
     "name": "stderr",
     "output_type": "stream",
     "text": [
      "[nltk_data] Downloading package punkt to\n",
      "[nltk_data]     C:\\Users\\samsung\\AppData\\Roaming\\nltk_data...\n",
      "[nltk_data]   Package punkt is already up-to-date!\n"
     ]
    }
   ],
   "source": [
    "def clean_korean_documents(documents):\n",
    "    #텍스트 정제 (HTML 태그 제거)\n",
    "    for i, document in enumerate(documents):\n",
    "        document = BeautifulSoup(document, 'html.parser').text \n",
    "        documents[i] = document\n",
    "        print('='*50)\n",
    "        print(document)\n",
    "        print('='*50, end='\\n\\n')\n",
    "\n",
    "    #텍스트 정제 (특수기호 제거)\n",
    "    for i, document in enumerate(documents):\n",
    "        document = re.sub(r'[^ ㄱ-ㅣ가-힣]', '', document) #특수기호 제거, 정규 표현식\n",
    "        documents[i] = document\n",
    "        print('='*50)\n",
    "        print(document)\n",
    "        print('='*50, end='\\n\\n')\n",
    "        \n",
    "    #텍스트 정제 (형태소 분석)\n",
    "    for i, document in enumerate(documents):\n",
    "        okt = konlpy.tag.Okt()\n",
    "        clean_words = []\n",
    "        for word in okt.pos(document, stem=True): #어간 추출\n",
    "            if word[1] in ['Noun', 'Verb', 'Adjective']: #명사, 동사, 형용사\n",
    "                clean_words.append(word[0])\n",
    "        document = ' '.join(clean_words)\n",
    "        documents[i] = document\n",
    "        print('='*50)\n",
    "        print(document)\n",
    "        print('='*50, end='\\n\\n')\n",
    "        \n",
    "    #텍스트 정제 (불용어 제거)\n",
    "    df = pd.read_csv('https://raw.githubusercontent.com/cranberryai/todak_todak_python/master/machine_learning_text/clean_korean_documents/korean_stopwords.txt', header=None)\n",
    "    df[0] = df[0].apply(lambda x: x.strip())\n",
    "    stopwords = df[0].to_numpy()\n",
    "    nltk.download('punkt')\n",
    "    for i, document in enumerate(documents):\n",
    "        clean_words = [] \n",
    "        for word in nltk.tokenize.word_tokenize(document): \n",
    "            if word not in stopwords: #불용어 제거\n",
    "                clean_words.append(word)\n",
    "        documents[i] = ' '.join(clean_words)  \n",
    "        print('='*50)\n",
    "        print(document)\n",
    "        print('='*50, end='\\n\\n')\n",
    "        \n",
    "    return documents\n",
    "\n",
    "##########데이터 로드\n",
    "\n",
    "naver_news = load_files('/Users/samsung/Documents/coding/webservice/whatthispills/ml/newsData/', shuffle=True)\n",
    "\n",
    "labels = ['정치', '경제', '사회', '생활/문화', '세계', '기술/IT', '연예', '스포츠']\n",
    "\n",
    "##########데이터 분석\n",
    "\n",
    "##########데이터 전처리\n",
    "\n",
    "x_data = naver_news.data\n",
    "y_data = naver_news.target\n",
    "x_data = x_data[:50] #데이터를 50개로 제한\n",
    "y_data = y_data[:50]\n",
    "\n",
    "x_data = [x.decode('utf-8') for x in x_data] #바이트를 문자열로 바꾸기\n",
    "x_data = clean_korean_documents(x_data[:1]) #텍스트 정제"
   ]
  },
  {
   "cell_type": "code",
   "execution_count": 4,
   "id": "72b84410",
   "metadata": {},
   "outputs": [
    {
     "data": {
      "text/html": [
       "<style>#sk-container-id-1 {color: black;background-color: white;}#sk-container-id-1 pre{padding: 0;}#sk-container-id-1 div.sk-toggleable {background-color: white;}#sk-container-id-1 label.sk-toggleable__label {cursor: pointer;display: block;width: 100%;margin-bottom: 0;padding: 0.3em;box-sizing: border-box;text-align: center;}#sk-container-id-1 label.sk-toggleable__label-arrow:before {content: \"▸\";float: left;margin-right: 0.25em;color: #696969;}#sk-container-id-1 label.sk-toggleable__label-arrow:hover:before {color: black;}#sk-container-id-1 div.sk-estimator:hover label.sk-toggleable__label-arrow:before {color: black;}#sk-container-id-1 div.sk-toggleable__content {max-height: 0;max-width: 0;overflow: hidden;text-align: left;background-color: #f0f8ff;}#sk-container-id-1 div.sk-toggleable__content pre {margin: 0.2em;color: black;border-radius: 0.25em;background-color: #f0f8ff;}#sk-container-id-1 input.sk-toggleable__control:checked~div.sk-toggleable__content {max-height: 200px;max-width: 100%;overflow: auto;}#sk-container-id-1 input.sk-toggleable__control:checked~label.sk-toggleable__label-arrow:before {content: \"▾\";}#sk-container-id-1 div.sk-estimator input.sk-toggleable__control:checked~label.sk-toggleable__label {background-color: #d4ebff;}#sk-container-id-1 div.sk-label input.sk-toggleable__control:checked~label.sk-toggleable__label {background-color: #d4ebff;}#sk-container-id-1 input.sk-hidden--visually {border: 0;clip: rect(1px 1px 1px 1px);clip: rect(1px, 1px, 1px, 1px);height: 1px;margin: -1px;overflow: hidden;padding: 0;position: absolute;width: 1px;}#sk-container-id-1 div.sk-estimator {font-family: monospace;background-color: #f0f8ff;border: 1px dotted black;border-radius: 0.25em;box-sizing: border-box;margin-bottom: 0.5em;}#sk-container-id-1 div.sk-estimator:hover {background-color: #d4ebff;}#sk-container-id-1 div.sk-parallel-item::after {content: \"\";width: 100%;border-bottom: 1px solid gray;flex-grow: 1;}#sk-container-id-1 div.sk-label:hover label.sk-toggleable__label {background-color: #d4ebff;}#sk-container-id-1 div.sk-serial::before {content: \"\";position: absolute;border-left: 1px solid gray;box-sizing: border-box;top: 0;bottom: 0;left: 50%;z-index: 0;}#sk-container-id-1 div.sk-serial {display: flex;flex-direction: column;align-items: center;background-color: white;padding-right: 0.2em;padding-left: 0.2em;position: relative;}#sk-container-id-1 div.sk-item {position: relative;z-index: 1;}#sk-container-id-1 div.sk-parallel {display: flex;align-items: stretch;justify-content: center;background-color: white;position: relative;}#sk-container-id-1 div.sk-item::before, #sk-container-id-1 div.sk-parallel-item::before {content: \"\";position: absolute;border-left: 1px solid gray;box-sizing: border-box;top: 0;bottom: 0;left: 50%;z-index: -1;}#sk-container-id-1 div.sk-parallel-item {display: flex;flex-direction: column;z-index: 1;position: relative;background-color: white;}#sk-container-id-1 div.sk-parallel-item:first-child::after {align-self: flex-end;width: 50%;}#sk-container-id-1 div.sk-parallel-item:last-child::after {align-self: flex-start;width: 50%;}#sk-container-id-1 div.sk-parallel-item:only-child::after {width: 0;}#sk-container-id-1 div.sk-dashed-wrapped {border: 1px dashed gray;margin: 0 0.4em 0.5em 0.4em;box-sizing: border-box;padding-bottom: 0.4em;background-color: white;}#sk-container-id-1 div.sk-label label {font-family: monospace;font-weight: bold;display: inline-block;line-height: 1.2em;}#sk-container-id-1 div.sk-label-container {text-align: center;}#sk-container-id-1 div.sk-container {/* jupyter's `normalize.less` sets `[hidden] { display: none; }` but bootstrap.min.css set `[hidden] { display: none !important; }` so we also need the `!important` here to be able to override the default hidden behavior on the sphinx rendered scikit-learn.org. See: https://github.com/scikit-learn/scikit-learn/issues/21755 */display: inline-block !important;position: relative;}#sk-container-id-1 div.sk-text-repr-fallback {display: none;}</style><div id=\"sk-container-id-1\" class=\"sk-top-container\"><div class=\"sk-text-repr-fallback\"><pre>CountVectorizer()</pre><b>In a Jupyter environment, please rerun this cell to show the HTML representation or trust the notebook. <br />On GitHub, the HTML representation is unable to render, please try loading this page with nbviewer.org.</b></div><div class=\"sk-container\" hidden><div class=\"sk-item\"><div class=\"sk-estimator sk-toggleable\"><input class=\"sk-toggleable__control sk-hidden--visually\" id=\"sk-estimator-id-1\" type=\"checkbox\" checked><label for=\"sk-estimator-id-1\" class=\"sk-toggleable__label sk-toggleable__label-arrow\">CountVectorizer</label><div class=\"sk-toggleable__content\"><pre>CountVectorizer()</pre></div></div></div></div></div>"
      ],
      "text/plain": [
       "CountVectorizer()"
      ]
     },
     "execution_count": 4,
     "metadata": {},
     "output_type": "execute_result"
    }
   ],
   "source": [
    "cv = CountVectorizer()\n",
    "cv.fit(x_data)"
   ]
  },
  {
   "cell_type": "code",
   "execution_count": 5,
   "id": "169b3e9f",
   "metadata": {},
   "outputs": [
    {
     "name": "stdout",
     "output_type": "stream",
     "text": [
      "  (0, 0)\t1\n",
      "  (0, 1)\t1\n",
      "  (0, 2)\t1\n",
      "  (0, 3)\t1\n",
      "  (0, 4)\t1\n",
      "  (0, 5)\t1\n",
      "  (0, 6)\t1\n",
      "  (0, 7)\t1\n",
      "  (0, 8)\t1\n",
      "  (0, 9)\t1\n",
      "  (0, 10)\t1\n",
      "  (0, 11)\t2\n",
      "  (0, 12)\t1\n",
      "  (0, 13)\t2\n",
      "  (0, 14)\t1\n",
      "  (0, 15)\t1\n",
      "  (0, 16)\t1\n",
      "  (0, 17)\t1\n",
      "  (0, 18)\t4\n",
      "  (0, 19)\t2\n",
      "  (0, 20)\t1\n",
      "  (0, 21)\t1\n",
      "  (0, 22)\t2\n",
      "  (0, 23)\t1\n",
      "  (0, 24)\t1\n",
      "  :\t:\n",
      "  (0, 50)\t1\n",
      "  (0, 51)\t4\n",
      "  (0, 52)\t1\n",
      "  (0, 53)\t2\n",
      "  (0, 54)\t1\n",
      "  (0, 55)\t1\n",
      "  (0, 56)\t4\n",
      "  (0, 57)\t1\n",
      "  (0, 58)\t2\n",
      "  (0, 59)\t1\n",
      "  (0, 60)\t1\n",
      "  (0, 61)\t2\n",
      "  (0, 62)\t1\n",
      "  (0, 63)\t3\n",
      "  (0, 64)\t1\n",
      "  (0, 65)\t3\n",
      "  (0, 66)\t1\n",
      "  (0, 67)\t2\n",
      "  (0, 68)\t1\n",
      "  (0, 69)\t1\n",
      "  (0, 70)\t11\n",
      "  (0, 71)\t1\n",
      "  (0, 72)\t3\n",
      "  (0, 73)\t1\n",
      "  (0, 74)\t1\n"
     ]
    }
   ],
   "source": [
    "print(cv.transform(x_data))"
   ]
  },
  {
   "cell_type": "code",
   "execution_count": 6,
   "id": "d0e7fba4",
   "metadata": {},
   "outputs": [
    {
     "data": {
      "text/plain": [
       "['태양광 충전 되다 아이폰 테슬라 디넷 코리아 이정현 기자 도널드 트럼프 미국 대통령 푸틴 러시아 대통령 초상화 새기다 황금 아이폰 출시 하다 화제 모으다 러시아 업체 캐비아 이번 태양광 충전 가능하다 아이폰 를 판매 하다 매체 더버지 보도 하다 업체 주로 아이폰 애플 워치 제품 금 장식 개조 하다 고가 판매 하다 업체 아이폰 이름 아이폰 테슬라 제품 면 태양 전지 패널 있다 스마트폰 뒤지다 놓다 하다 충전 되어다 보조 배터리 형태 사용 하다 있다 업체 아이폰 직접 만들다 아니다 아이폰 탑재 되다 태양광 충전 기능 아이폰 직접 내장 되어다 있다 형태 아니다 아이폰 바깥 쪽 케이스 형태 탑재 되다 캐비아 동안 제공 하다 제품 마찬가지 고급스럽다 움 대화 하다 위해 노력 하다 아이폰 면 모서리 후 카메라 테두리 곳곳 금 장식 하다 제품 대다 한정 생산 되다 모델 아이폰 테슬라 가격 달러 약 만 모델 달러 약 만']"
      ]
     },
     "execution_count": 6,
     "metadata": {},
     "output_type": "execute_result"
    }
   ],
   "source": [
    "x_data"
   ]
  },
  {
   "cell_type": "code",
   "execution_count": 7,
   "id": "4f403d00",
   "metadata": {},
   "outputs": [
    {
     "data": {
      "text/plain": [
       "{'태양광': 63,\n",
       " '충전': 56,\n",
       " '되다': 18,\n",
       " '아이폰': 39,\n",
       " '테슬라': 65,\n",
       " '디넷': 21,\n",
       " '코리아': 60,\n",
       " '이정현': 46,\n",
       " '기자': 7,\n",
       " '도널드': 16,\n",
       " '트럼프': 66,\n",
       " '미국': 29,\n",
       " '대통령': 13,\n",
       " '푸틴': 69,\n",
       " '러시아': 22,\n",
       " '초상화': 54,\n",
       " '새기다': 35,\n",
       " '황금': 74,\n",
       " '출시': 55,\n",
       " '하다': 70,\n",
       " '화제': 73,\n",
       " '모으다': 28,\n",
       " '업체': 41,\n",
       " '캐비아': 58,\n",
       " '이번': 45,\n",
       " '가능하다': 1,\n",
       " '판매': 67,\n",
       " '매체': 25,\n",
       " '더버지': 15,\n",
       " '보도': 32,\n",
       " '주로': 52,\n",
       " '애플': 40,\n",
       " '워치': 42,\n",
       " '제품': 51,\n",
       " '장식': 48,\n",
       " '개조': 2,\n",
       " '고가': 3,\n",
       " '이름': 44,\n",
       " '태양': 62,\n",
       " '전지': 49,\n",
       " '패널': 68,\n",
       " '있다': 47,\n",
       " '스마트폰': 37,\n",
       " '뒤지다': 20,\n",
       " '놓다': 10,\n",
       " '되어다': 19,\n",
       " '보조': 33,\n",
       " '배터리': 31,\n",
       " '형태': 72,\n",
       " '사용': 34,\n",
       " '직접': 53,\n",
       " '만들다': 24,\n",
       " '아니다': 38,\n",
       " '탑재': 61,\n",
       " '기능': 6,\n",
       " '내장': 8,\n",
       " '바깥': 30,\n",
       " '케이스': 59,\n",
       " '동안': 17,\n",
       " '제공': 50,\n",
       " '마찬가지': 23,\n",
       " '고급스럽다': 4,\n",
       " '대화': 14,\n",
       " '위해': 43,\n",
       " '노력': 9,\n",
       " '모서리': 27,\n",
       " '카메라': 57,\n",
       " '테두리': 64,\n",
       " '곳곳': 5,\n",
       " '대다': 12,\n",
       " '한정': 71,\n",
       " '생산': 36,\n",
       " '모델': 26,\n",
       " '가격': 0,\n",
       " '달러': 11}"
      ]
     },
     "execution_count": 7,
     "metadata": {},
     "output_type": "execute_result"
    }
   ],
   "source": [
    "cv.vocabulary_"
   ]
  },
  {
   "cell_type": "code",
   "execution_count": 8,
   "id": "eee6847e",
   "metadata": {},
   "outputs": [
    {
     "data": {
      "text/html": [
       "<style>#sk-container-id-2 {color: black;background-color: white;}#sk-container-id-2 pre{padding: 0;}#sk-container-id-2 div.sk-toggleable {background-color: white;}#sk-container-id-2 label.sk-toggleable__label {cursor: pointer;display: block;width: 100%;margin-bottom: 0;padding: 0.3em;box-sizing: border-box;text-align: center;}#sk-container-id-2 label.sk-toggleable__label-arrow:before {content: \"▸\";float: left;margin-right: 0.25em;color: #696969;}#sk-container-id-2 label.sk-toggleable__label-arrow:hover:before {color: black;}#sk-container-id-2 div.sk-estimator:hover label.sk-toggleable__label-arrow:before {color: black;}#sk-container-id-2 div.sk-toggleable__content {max-height: 0;max-width: 0;overflow: hidden;text-align: left;background-color: #f0f8ff;}#sk-container-id-2 div.sk-toggleable__content pre {margin: 0.2em;color: black;border-radius: 0.25em;background-color: #f0f8ff;}#sk-container-id-2 input.sk-toggleable__control:checked~div.sk-toggleable__content {max-height: 200px;max-width: 100%;overflow: auto;}#sk-container-id-2 input.sk-toggleable__control:checked~label.sk-toggleable__label-arrow:before {content: \"▾\";}#sk-container-id-2 div.sk-estimator input.sk-toggleable__control:checked~label.sk-toggleable__label {background-color: #d4ebff;}#sk-container-id-2 div.sk-label input.sk-toggleable__control:checked~label.sk-toggleable__label {background-color: #d4ebff;}#sk-container-id-2 input.sk-hidden--visually {border: 0;clip: rect(1px 1px 1px 1px);clip: rect(1px, 1px, 1px, 1px);height: 1px;margin: -1px;overflow: hidden;padding: 0;position: absolute;width: 1px;}#sk-container-id-2 div.sk-estimator {font-family: monospace;background-color: #f0f8ff;border: 1px dotted black;border-radius: 0.25em;box-sizing: border-box;margin-bottom: 0.5em;}#sk-container-id-2 div.sk-estimator:hover {background-color: #d4ebff;}#sk-container-id-2 div.sk-parallel-item::after {content: \"\";width: 100%;border-bottom: 1px solid gray;flex-grow: 1;}#sk-container-id-2 div.sk-label:hover label.sk-toggleable__label {background-color: #d4ebff;}#sk-container-id-2 div.sk-serial::before {content: \"\";position: absolute;border-left: 1px solid gray;box-sizing: border-box;top: 0;bottom: 0;left: 50%;z-index: 0;}#sk-container-id-2 div.sk-serial {display: flex;flex-direction: column;align-items: center;background-color: white;padding-right: 0.2em;padding-left: 0.2em;position: relative;}#sk-container-id-2 div.sk-item {position: relative;z-index: 1;}#sk-container-id-2 div.sk-parallel {display: flex;align-items: stretch;justify-content: center;background-color: white;position: relative;}#sk-container-id-2 div.sk-item::before, #sk-container-id-2 div.sk-parallel-item::before {content: \"\";position: absolute;border-left: 1px solid gray;box-sizing: border-box;top: 0;bottom: 0;left: 50%;z-index: -1;}#sk-container-id-2 div.sk-parallel-item {display: flex;flex-direction: column;z-index: 1;position: relative;background-color: white;}#sk-container-id-2 div.sk-parallel-item:first-child::after {align-self: flex-end;width: 50%;}#sk-container-id-2 div.sk-parallel-item:last-child::after {align-self: flex-start;width: 50%;}#sk-container-id-2 div.sk-parallel-item:only-child::after {width: 0;}#sk-container-id-2 div.sk-dashed-wrapped {border: 1px dashed gray;margin: 0 0.4em 0.5em 0.4em;box-sizing: border-box;padding-bottom: 0.4em;background-color: white;}#sk-container-id-2 div.sk-label label {font-family: monospace;font-weight: bold;display: inline-block;line-height: 1.2em;}#sk-container-id-2 div.sk-label-container {text-align: center;}#sk-container-id-2 div.sk-container {/* jupyter's `normalize.less` sets `[hidden] { display: none; }` but bootstrap.min.css set `[hidden] { display: none !important; }` so we also need the `!important` here to be able to override the default hidden behavior on the sphinx rendered scikit-learn.org. See: https://github.com/scikit-learn/scikit-learn/issues/21755 */display: inline-block !important;position: relative;}#sk-container-id-2 div.sk-text-repr-fallback {display: none;}</style><div id=\"sk-container-id-2\" class=\"sk-top-container\"><div class=\"sk-text-repr-fallback\"><pre>TfidfVectorizer()</pre><b>In a Jupyter environment, please rerun this cell to show the HTML representation or trust the notebook. <br />On GitHub, the HTML representation is unable to render, please try loading this page with nbviewer.org.</b></div><div class=\"sk-container\" hidden><div class=\"sk-item\"><div class=\"sk-estimator sk-toggleable\"><input class=\"sk-toggleable__control sk-hidden--visually\" id=\"sk-estimator-id-2\" type=\"checkbox\" checked><label for=\"sk-estimator-id-2\" class=\"sk-toggleable__label sk-toggleable__label-arrow\">TfidfVectorizer</label><div class=\"sk-toggleable__content\"><pre>TfidfVectorizer()</pre></div></div></div></div></div>"
      ],
      "text/plain": [
       "TfidfVectorizer()"
      ]
     },
     "execution_count": 8,
     "metadata": {},
     "output_type": "execute_result"
    }
   ],
   "source": [
    "tfid = TfidfVectorizer()\n",
    "tfid.fit(x_data)"
   ]
  },
  {
   "cell_type": "code",
   "execution_count": 9,
   "id": "6b8b7d6a",
   "metadata": {},
   "outputs": [
    {
     "data": {
      "text/plain": [
       "[('가격', 0),\n",
       " ('가능하다', 1),\n",
       " ('개조', 2),\n",
       " ('고가', 3),\n",
       " ('고급스럽다', 4),\n",
       " ('곳곳', 5),\n",
       " ('기능', 6),\n",
       " ('기자', 7),\n",
       " ('내장', 8),\n",
       " ('노력', 9),\n",
       " ('놓다', 10),\n",
       " ('달러', 11),\n",
       " ('대다', 12),\n",
       " ('대통령', 13),\n",
       " ('대화', 14),\n",
       " ('더버지', 15),\n",
       " ('도널드', 16),\n",
       " ('동안', 17),\n",
       " ('되다', 18),\n",
       " ('되어다', 19),\n",
       " ('뒤지다', 20),\n",
       " ('디넷', 21),\n",
       " ('러시아', 22),\n",
       " ('마찬가지', 23),\n",
       " ('만들다', 24),\n",
       " ('매체', 25),\n",
       " ('모델', 26),\n",
       " ('모서리', 27),\n",
       " ('모으다', 28),\n",
       " ('미국', 29),\n",
       " ('바깥', 30),\n",
       " ('배터리', 31),\n",
       " ('보도', 32),\n",
       " ('보조', 33),\n",
       " ('사용', 34),\n",
       " ('새기다', 35),\n",
       " ('생산', 36),\n",
       " ('스마트폰', 37),\n",
       " ('아니다', 38),\n",
       " ('아이폰', 39),\n",
       " ('애플', 40),\n",
       " ('업체', 41),\n",
       " ('워치', 42),\n",
       " ('위해', 43),\n",
       " ('이름', 44),\n",
       " ('이번', 45),\n",
       " ('이정현', 46),\n",
       " ('있다', 47),\n",
       " ('장식', 48),\n",
       " ('전지', 49),\n",
       " ('제공', 50),\n",
       " ('제품', 51),\n",
       " ('주로', 52),\n",
       " ('직접', 53),\n",
       " ('초상화', 54),\n",
       " ('출시', 55),\n",
       " ('충전', 56),\n",
       " ('카메라', 57),\n",
       " ('캐비아', 58),\n",
       " ('케이스', 59),\n",
       " ('코리아', 60),\n",
       " ('탑재', 61),\n",
       " ('태양', 62),\n",
       " ('태양광', 63),\n",
       " ('테두리', 64),\n",
       " ('테슬라', 65),\n",
       " ('트럼프', 66),\n",
       " ('판매', 67),\n",
       " ('패널', 68),\n",
       " ('푸틴', 69),\n",
       " ('하다', 70),\n",
       " ('한정', 71),\n",
       " ('형태', 72),\n",
       " ('화제', 73),\n",
       " ('황금', 74)]"
      ]
     },
     "execution_count": 9,
     "metadata": {},
     "output_type": "execute_result"
    }
   ],
   "source": [
    "sorted(tfid.vocabulary_.items())"
   ]
  },
  {
   "cell_type": "code",
   "execution_count": 14,
   "id": "e3b89168",
   "metadata": {},
   "outputs": [
    {
     "name": "stdout",
     "output_type": "stream",
     "text": [
      "  (0, 74)\t0.04647394123401731\n",
      "  (0, 73)\t0.04647394123401731\n",
      "  (0, 72)\t0.13942182370205192\n",
      "  (0, 71)\t0.04647394123401731\n",
      "  (0, 70)\t0.5112133535741904\n",
      "  (0, 69)\t0.04647394123401731\n",
      "  (0, 68)\t0.04647394123401731\n",
      "  (0, 67)\t0.09294788246803462\n",
      "  (0, 66)\t0.04647394123401731\n",
      "  (0, 65)\t0.13942182370205192\n",
      "  (0, 64)\t0.04647394123401731\n",
      "  (0, 63)\t0.13942182370205192\n",
      "  (0, 62)\t0.04647394123401731\n",
      "  (0, 61)\t0.09294788246803462\n",
      "  (0, 60)\t0.04647394123401731\n",
      "  (0, 59)\t0.04647394123401731\n",
      "  (0, 58)\t0.09294788246803462\n",
      "  (0, 57)\t0.04647394123401731\n",
      "  (0, 56)\t0.18589576493606924\n",
      "  (0, 55)\t0.04647394123401731\n",
      "  (0, 54)\t0.04647394123401731\n",
      "  (0, 53)\t0.09294788246803462\n",
      "  (0, 52)\t0.04647394123401731\n",
      "  (0, 51)\t0.18589576493606924\n",
      "  (0, 50)\t0.04647394123401731\n",
      "  :\t:\n",
      "  (0, 24)\t0.04647394123401731\n",
      "  (0, 23)\t0.04647394123401731\n",
      "  (0, 22)\t0.09294788246803462\n",
      "  (0, 21)\t0.04647394123401731\n",
      "  (0, 20)\t0.04647394123401731\n",
      "  (0, 19)\t0.09294788246803462\n",
      "  (0, 18)\t0.18589576493606924\n",
      "  (0, 17)\t0.04647394123401731\n",
      "  (0, 16)\t0.04647394123401731\n",
      "  (0, 15)\t0.04647394123401731\n",
      "  (0, 14)\t0.04647394123401731\n",
      "  (0, 13)\t0.09294788246803462\n",
      "  (0, 12)\t0.04647394123401731\n",
      "  (0, 11)\t0.09294788246803462\n",
      "  (0, 10)\t0.04647394123401731\n",
      "  (0, 9)\t0.04647394123401731\n",
      "  (0, 8)\t0.04647394123401731\n",
      "  (0, 7)\t0.04647394123401731\n",
      "  (0, 6)\t0.04647394123401731\n",
      "  (0, 5)\t0.04647394123401731\n",
      "  (0, 4)\t0.04647394123401731\n",
      "  (0, 3)\t0.04647394123401731\n",
      "  (0, 2)\t0.04647394123401731\n",
      "  (0, 1)\t0.04647394123401731\n",
      "  (0, 0)\t0.04647394123401731\n"
     ]
    }
   ],
   "source": [
    "print(tfid.transform(x_data))"
   ]
  },
  {
   "cell_type": "code",
   "execution_count": null,
   "id": "02b13a36",
   "metadata": {},
   "outputs": [],
   "source": []
  }
 ],
 "metadata": {
  "kernelspec": {
   "display_name": "ex_kernel",
   "language": "python",
   "name": "ex"
  },
  "language_info": {
   "codemirror_mode": {
    "name": "ipython",
    "version": 3
   },
   "file_extension": ".py",
   "mimetype": "text/x-python",
   "name": "python",
   "nbconvert_exporter": "python",
   "pygments_lexer": "ipython3",
   "version": "3.8.10"
  },
  "toc": {
   "base_numbering": 1,
   "nav_menu": {},
   "number_sections": true,
   "sideBar": true,
   "skip_h1_title": false,
   "title_cell": "Table of Contents",
   "title_sidebar": "Contents",
   "toc_cell": false,
   "toc_position": {},
   "toc_section_display": true,
   "toc_window_display": false
  }
 },
 "nbformat": 4,
 "nbformat_minor": 5
}
